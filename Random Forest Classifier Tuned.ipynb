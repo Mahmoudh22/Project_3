{
 "cells": [
  {
   "cell_type": "code",
   "execution_count": 1,
   "metadata": {},
   "outputs": [],
   "source": [
    "import numpy as np\n",
    "import pandas as pd\n",
    "from matplotlib import pyplot as plt\n",
    "import seaborn as sns\n",
    "from scipy import stats as stats\n",
    "\n",
    "from sklearn.linear_model import LogisticRegression\n",
    "from sklearn.neighbors import KNeighborsClassifier\n",
    "from sklearn.tree import DecisionTreeClassifier\n",
    "\n",
    "from sklearn.metrics import precision_score, recall_score, plot_confusion_matrix\n",
    "from sklearn.model_selection import train_test_split, GridSearchCV,\\\n",
    "cross_val_score, RandomizedSearchCV\n",
    "\n",
    "from sklearn.preprocessing import OneHotEncoder, StandardScaler, Normalizer\n",
    "from sklearn.impute import SimpleImputer\n",
    "\n",
    "from sklearn.compose import ColumnTransformer\n",
    "\n",
    "from sklearn import set_config\n",
    "set_config(display='diagram')"
   ]
  },
  {
   "cell_type": "code",
   "execution_count": 2,
   "metadata": {},
   "outputs": [
    {
     "data": {
      "text/plain": [
       "(334, 22)"
      ]
     },
     "execution_count": 2,
     "metadata": {},
     "output_type": "execute_result"
    }
   ],
   "source": [
    "test_df = pd.read_csv('/Users/mahmoud/Documents/Project_3/test.csv')\n",
    "\n",
    "test_df.shape"
   ]
  },
  {
   "cell_type": "code",
   "execution_count": 3,
   "metadata": {},
   "outputs": [
    {
     "data": {
      "text/plain": [
       "(2999, 22)"
      ]
     },
     "execution_count": 3,
     "metadata": {},
     "output_type": "execute_result"
    }
   ],
   "source": [
    "train_df = pd.read_csv('/Users/mahmoud/Documents/Project_3/train.csv')\n",
    "\n",
    "train_df.shape"
   ]
  },
  {
   "cell_type": "code",
   "execution_count": 4,
   "metadata": {},
   "outputs": [],
   "source": [
    "test_df = test_df.drop(columns=['Unnamed: 0'])\n",
    "train_df = train_df.drop(columns=['Unnamed: 0'])"
   ]
  },
  {
   "cell_type": "code",
   "execution_count": null,
   "metadata": {},
   "outputs": [],
   "source": []
  },
  {
   "cell_type": "code",
   "execution_count": 5,
   "metadata": {},
   "outputs": [],
   "source": [
    "X = train_df.drop(['churn'], axis = 1)\n",
    "y = train_df['churn']"
   ]
  },
  {
   "cell_type": "code",
   "execution_count": 6,
   "metadata": {},
   "outputs": [],
   "source": [
    "X_train, X_test, y_train, y_test = train_test_split(X, y, stratify = y, test_size = 0.25, random_state = 42)"
   ]
  },
  {
   "cell_type": "code",
   "execution_count": 7,
   "metadata": {},
   "outputs": [
    {
     "data": {
      "text/html": [
       "<div>\n",
       "<style scoped>\n",
       "    .dataframe tbody tr th:only-of-type {\n",
       "        vertical-align: middle;\n",
       "    }\n",
       "\n",
       "    .dataframe tbody tr th {\n",
       "        vertical-align: top;\n",
       "    }\n",
       "\n",
       "    .dataframe thead th {\n",
       "        text-align: right;\n",
       "    }\n",
       "</style>\n",
       "<table border=\"1\" class=\"dataframe\">\n",
       "  <thead>\n",
       "    <tr style=\"text-align: right;\">\n",
       "      <th></th>\n",
       "      <th>account length</th>\n",
       "      <th>number vmail messages</th>\n",
       "      <th>total day minutes</th>\n",
       "      <th>total day calls</th>\n",
       "      <th>total day charge</th>\n",
       "      <th>total eve minutes</th>\n",
       "      <th>total eve calls</th>\n",
       "      <th>total eve charge</th>\n",
       "      <th>total night minutes</th>\n",
       "      <th>total night calls</th>\n",
       "      <th>total night charge</th>\n",
       "      <th>total intl minutes</th>\n",
       "      <th>total intl calls</th>\n",
       "      <th>total intl charge</th>\n",
       "      <th>customer service calls</th>\n",
       "    </tr>\n",
       "  </thead>\n",
       "  <tbody>\n",
       "    <tr>\n",
       "      <th>93</th>\n",
       "      <td>142</td>\n",
       "      <td>0</td>\n",
       "      <td>140.8</td>\n",
       "      <td>140</td>\n",
       "      <td>23.94</td>\n",
       "      <td>228.6</td>\n",
       "      <td>119</td>\n",
       "      <td>19.43</td>\n",
       "      <td>152.9</td>\n",
       "      <td>88</td>\n",
       "      <td>6.88</td>\n",
       "      <td>10.9</td>\n",
       "      <td>7</td>\n",
       "      <td>2.94</td>\n",
       "      <td>1</td>\n",
       "    </tr>\n",
       "    <tr>\n",
       "      <th>419</th>\n",
       "      <td>135</td>\n",
       "      <td>0</td>\n",
       "      <td>201.8</td>\n",
       "      <td>81</td>\n",
       "      <td>34.31</td>\n",
       "      <td>225.0</td>\n",
       "      <td>114</td>\n",
       "      <td>19.13</td>\n",
       "      <td>204.4</td>\n",
       "      <td>82</td>\n",
       "      <td>9.20</td>\n",
       "      <td>10.3</td>\n",
       "      <td>6</td>\n",
       "      <td>2.78</td>\n",
       "      <td>1</td>\n",
       "    </tr>\n",
       "    <tr>\n",
       "      <th>2907</th>\n",
       "      <td>134</td>\n",
       "      <td>32</td>\n",
       "      <td>216.8</td>\n",
       "      <td>78</td>\n",
       "      <td>36.86</td>\n",
       "      <td>102.2</td>\n",
       "      <td>111</td>\n",
       "      <td>8.69</td>\n",
       "      <td>174.0</td>\n",
       "      <td>83</td>\n",
       "      <td>7.83</td>\n",
       "      <td>8.6</td>\n",
       "      <td>2</td>\n",
       "      <td>2.32</td>\n",
       "      <td>0</td>\n",
       "    </tr>\n",
       "    <tr>\n",
       "      <th>2525</th>\n",
       "      <td>103</td>\n",
       "      <td>36</td>\n",
       "      <td>87.2</td>\n",
       "      <td>92</td>\n",
       "      <td>14.82</td>\n",
       "      <td>169.3</td>\n",
       "      <td>110</td>\n",
       "      <td>14.39</td>\n",
       "      <td>166.7</td>\n",
       "      <td>80</td>\n",
       "      <td>7.50</td>\n",
       "      <td>10.9</td>\n",
       "      <td>5</td>\n",
       "      <td>2.94</td>\n",
       "      <td>6</td>\n",
       "    </tr>\n",
       "    <tr>\n",
       "      <th>2592</th>\n",
       "      <td>92</td>\n",
       "      <td>29</td>\n",
       "      <td>201.3</td>\n",
       "      <td>130</td>\n",
       "      <td>34.22</td>\n",
       "      <td>203.7</td>\n",
       "      <td>115</td>\n",
       "      <td>17.31</td>\n",
       "      <td>129.9</td>\n",
       "      <td>113</td>\n",
       "      <td>5.85</td>\n",
       "      <td>6.4</td>\n",
       "      <td>6</td>\n",
       "      <td>1.73</td>\n",
       "      <td>1</td>\n",
       "    </tr>\n",
       "    <tr>\n",
       "      <th>...</th>\n",
       "      <td>...</td>\n",
       "      <td>...</td>\n",
       "      <td>...</td>\n",
       "      <td>...</td>\n",
       "      <td>...</td>\n",
       "      <td>...</td>\n",
       "      <td>...</td>\n",
       "      <td>...</td>\n",
       "      <td>...</td>\n",
       "      <td>...</td>\n",
       "      <td>...</td>\n",
       "      <td>...</td>\n",
       "      <td>...</td>\n",
       "      <td>...</td>\n",
       "      <td>...</td>\n",
       "    </tr>\n",
       "    <tr>\n",
       "      <th>394</th>\n",
       "      <td>65</td>\n",
       "      <td>29</td>\n",
       "      <td>158.1</td>\n",
       "      <td>104</td>\n",
       "      <td>26.88</td>\n",
       "      <td>322.2</td>\n",
       "      <td>81</td>\n",
       "      <td>27.39</td>\n",
       "      <td>210.0</td>\n",
       "      <td>96</td>\n",
       "      <td>9.45</td>\n",
       "      <td>8.9</td>\n",
       "      <td>6</td>\n",
       "      <td>2.40</td>\n",
       "      <td>1</td>\n",
       "    </tr>\n",
       "    <tr>\n",
       "      <th>683</th>\n",
       "      <td>55</td>\n",
       "      <td>25</td>\n",
       "      <td>165.6</td>\n",
       "      <td>123</td>\n",
       "      <td>28.15</td>\n",
       "      <td>136.1</td>\n",
       "      <td>95</td>\n",
       "      <td>11.57</td>\n",
       "      <td>175.7</td>\n",
       "      <td>90</td>\n",
       "      <td>7.91</td>\n",
       "      <td>11.0</td>\n",
       "      <td>2</td>\n",
       "      <td>2.97</td>\n",
       "      <td>3</td>\n",
       "    </tr>\n",
       "    <tr>\n",
       "      <th>2688</th>\n",
       "      <td>103</td>\n",
       "      <td>0</td>\n",
       "      <td>246.5</td>\n",
       "      <td>47</td>\n",
       "      <td>41.91</td>\n",
       "      <td>195.5</td>\n",
       "      <td>84</td>\n",
       "      <td>16.62</td>\n",
       "      <td>200.5</td>\n",
       "      <td>96</td>\n",
       "      <td>9.02</td>\n",
       "      <td>11.7</td>\n",
       "      <td>4</td>\n",
       "      <td>3.16</td>\n",
       "      <td>1</td>\n",
       "    </tr>\n",
       "    <tr>\n",
       "      <th>2687</th>\n",
       "      <td>80</td>\n",
       "      <td>0</td>\n",
       "      <td>189.1</td>\n",
       "      <td>122</td>\n",
       "      <td>32.15</td>\n",
       "      <td>223.2</td>\n",
       "      <td>92</td>\n",
       "      <td>18.97</td>\n",
       "      <td>269.0</td>\n",
       "      <td>116</td>\n",
       "      <td>12.11</td>\n",
       "      <td>13.9</td>\n",
       "      <td>3</td>\n",
       "      <td>3.75</td>\n",
       "      <td>2</td>\n",
       "    </tr>\n",
       "    <tr>\n",
       "      <th>531</th>\n",
       "      <td>38</td>\n",
       "      <td>36</td>\n",
       "      <td>115.4</td>\n",
       "      <td>98</td>\n",
       "      <td>19.62</td>\n",
       "      <td>166.2</td>\n",
       "      <td>83</td>\n",
       "      <td>14.13</td>\n",
       "      <td>184.7</td>\n",
       "      <td>79</td>\n",
       "      <td>8.31</td>\n",
       "      <td>15.2</td>\n",
       "      <td>6</td>\n",
       "      <td>4.10</td>\n",
       "      <td>2</td>\n",
       "    </tr>\n",
       "  </tbody>\n",
       "</table>\n",
       "<p>2249 rows × 15 columns</p>\n",
       "</div>"
      ],
      "text/plain": [
       "      account length  number vmail messages  total day minutes  \\\n",
       "93               142                      0              140.8   \n",
       "419              135                      0              201.8   \n",
       "2907             134                     32              216.8   \n",
       "2525             103                     36               87.2   \n",
       "2592              92                     29              201.3   \n",
       "...              ...                    ...                ...   \n",
       "394               65                     29              158.1   \n",
       "683               55                     25              165.6   \n",
       "2688             103                      0              246.5   \n",
       "2687              80                      0              189.1   \n",
       "531               38                     36              115.4   \n",
       "\n",
       "      total day calls  total day charge  total eve minutes  total eve calls  \\\n",
       "93                140             23.94              228.6              119   \n",
       "419                81             34.31              225.0              114   \n",
       "2907               78             36.86              102.2              111   \n",
       "2525               92             14.82              169.3              110   \n",
       "2592              130             34.22              203.7              115   \n",
       "...               ...               ...                ...              ...   \n",
       "394               104             26.88              322.2               81   \n",
       "683               123             28.15              136.1               95   \n",
       "2688               47             41.91              195.5               84   \n",
       "2687              122             32.15              223.2               92   \n",
       "531                98             19.62              166.2               83   \n",
       "\n",
       "      total eve charge  total night minutes  total night calls  \\\n",
       "93               19.43                152.9                 88   \n",
       "419              19.13                204.4                 82   \n",
       "2907              8.69                174.0                 83   \n",
       "2525             14.39                166.7                 80   \n",
       "2592             17.31                129.9                113   \n",
       "...                ...                  ...                ...   \n",
       "394              27.39                210.0                 96   \n",
       "683              11.57                175.7                 90   \n",
       "2688             16.62                200.5                 96   \n",
       "2687             18.97                269.0                116   \n",
       "531              14.13                184.7                 79   \n",
       "\n",
       "      total night charge  total intl minutes  total intl calls  \\\n",
       "93                  6.88                10.9                 7   \n",
       "419                 9.20                10.3                 6   \n",
       "2907                7.83                 8.6                 2   \n",
       "2525                7.50                10.9                 5   \n",
       "2592                5.85                 6.4                 6   \n",
       "...                  ...                 ...               ...   \n",
       "394                 9.45                 8.9                 6   \n",
       "683                 7.91                11.0                 2   \n",
       "2688                9.02                11.7                 4   \n",
       "2687               12.11                13.9                 3   \n",
       "531                 8.31                15.2                 6   \n",
       "\n",
       "      total intl charge  customer service calls  \n",
       "93                 2.94                       1  \n",
       "419                2.78                       1  \n",
       "2907               2.32                       0  \n",
       "2525               2.94                       6  \n",
       "2592               1.73                       1  \n",
       "...                 ...                     ...  \n",
       "394                2.40                       1  \n",
       "683                2.97                       3  \n",
       "2688               3.16                       1  \n",
       "2687               3.75                       2  \n",
       "531                4.10                       2  \n",
       "\n",
       "[2249 rows x 15 columns]"
      ]
     },
     "execution_count": 7,
     "metadata": {},
     "output_type": "execute_result"
    }
   ],
   "source": [
    "# numeric columns + drop phone #\n",
    "X_tr_num = X_train.drop(['state', 'area code', 'phone number', 'international plan', 'voice mail plan'], axis=1)\n",
    "X_tr_num"
   ]
  },
  {
   "cell_type": "code",
   "execution_count": 8,
   "metadata": {},
   "outputs": [],
   "source": [
    "# doing the same for X test\n",
    "X_te_num = X_test.drop(['state', 'area code', 'phone number', 'international plan', 'voice mail plan'], axis=1)"
   ]
  },
  {
   "cell_type": "code",
   "execution_count": 9,
   "metadata": {
    "scrolled": true
   },
   "outputs": [
    {
     "data": {
      "text/html": [
       "<style>div.sk-top-container {color: black;background-color: white;}div.sk-toggleable {background-color: white;}label.sk-toggleable__label {cursor: pointer;display: block;width: 100%;margin-bottom: 0;padding: 0.2em 0.3em;box-sizing: border-box;text-align: center;}div.sk-toggleable__content {max-height: 0;max-width: 0;overflow: hidden;text-align: left;background-color: #f0f8ff;}div.sk-toggleable__content pre {margin: 0.2em;color: black;border-radius: 0.25em;background-color: #f0f8ff;}input.sk-toggleable__control:checked~div.sk-toggleable__content {max-height: 200px;max-width: 100%;overflow: auto;}div.sk-estimator input.sk-toggleable__control:checked~label.sk-toggleable__label {background-color: #d4ebff;}div.sk-label input.sk-toggleable__control:checked~label.sk-toggleable__label {background-color: #d4ebff;}input.sk-hidden--visually {border: 0;clip: rect(1px 1px 1px 1px);clip: rect(1px, 1px, 1px, 1px);height: 1px;margin: -1px;overflow: hidden;padding: 0;position: absolute;width: 1px;}div.sk-estimator {font-family: monospace;background-color: #f0f8ff;margin: 0.25em 0.25em;border: 1px dotted black;border-radius: 0.25em;box-sizing: border-box;}div.sk-estimator:hover {background-color: #d4ebff;}div.sk-parallel-item::after {content: \"\";width: 100%;border-bottom: 1px solid gray;flex-grow: 1;}div.sk-label:hover label.sk-toggleable__label {background-color: #d4ebff;}div.sk-serial::before {content: \"\";position: absolute;border-left: 1px solid gray;box-sizing: border-box;top: 2em;bottom: 0;left: 50%;}div.sk-serial {display: flex;flex-direction: column;align-items: center;background-color: white;}div.sk-item {z-index: 1;}div.sk-parallel {display: flex;align-items: stretch;justify-content: center;background-color: white;}div.sk-parallel-item {display: flex;flex-direction: column;position: relative;background-color: white;}div.sk-parallel-item:first-child::after {align-self: flex-end;width: 50%;}div.sk-parallel-item:last-child::after {align-self: flex-start;width: 50%;}div.sk-parallel-item:only-child::after {width: 0;}div.sk-dashed-wrapped {border: 1px dashed gray;margin: 0.2em;box-sizing: border-box;padding-bottom: 0.1em;background-color: white;position: relative;}div.sk-label label {font-family: monospace;font-weight: bold;background-color: white;display: inline-block;line-height: 1.2em;}div.sk-label-container {position: relative;z-index: 2;text-align: center;}div.sk-container {display: inline-block;position: relative;}</style><div class=\"sk-top-container\"><div class=\"sk-container\"><div class=\"sk-item sk-dashed-wrapped\"><div class=\"sk-label-container\"><div class=\"sk-label sk-toggleable\"><input class=\"sk-toggleable__control sk-hidden--visually\" id=\"43e34551-c22c-4b74-be24-fb504f2f049d\" type=\"checkbox\" ><label class=\"sk-toggleable__label\" for=\"43e34551-c22c-4b74-be24-fb504f2f049d\">Pipeline</label><div class=\"sk-toggleable__content\"><pre>Pipeline(steps=[('std_scaler', StandardScaler()),\n",
       "                ('rf_clf', RandomForestClassifier(random_state=42))])</pre></div></div></div><div class=\"sk-serial\"><div class=\"sk-item\"><div class=\"sk-estimator sk-toggleable\"><input class=\"sk-toggleable__control sk-hidden--visually\" id=\"c9c0bc58-2cc4-4862-bbaf-3304b04e52a7\" type=\"checkbox\" ><label class=\"sk-toggleable__label\" for=\"c9c0bc58-2cc4-4862-bbaf-3304b04e52a7\">StandardScaler</label><div class=\"sk-toggleable__content\"><pre>StandardScaler()</pre></div></div></div><div class=\"sk-item\"><div class=\"sk-estimator sk-toggleable\"><input class=\"sk-toggleable__control sk-hidden--visually\" id=\"ae640cd5-9e72-411d-a6be-ebdb3603c615\" type=\"checkbox\" ><label class=\"sk-toggleable__label\" for=\"ae640cd5-9e72-411d-a6be-ebdb3603c615\">RandomForestClassifier</label><div class=\"sk-toggleable__content\"><pre>RandomForestClassifier(random_state=42)</pre></div></div></div></div></div></div></div>"
      ],
      "text/plain": [
       "Pipeline(steps=[('std_scaler', StandardScaler()),\n",
       "                ('rf_clf', RandomForestClassifier(random_state=42))])"
      ]
     },
     "execution_count": 9,
     "metadata": {},
     "output_type": "execute_result"
    }
   ],
   "source": [
    "from imblearn.pipeline import Pipeline\n",
    "from imblearn.over_sampling import SMOTE\n",
    "from sklearn.ensemble import RandomForestClassifier\n",
    "\n",
    "# without smote better here\n",
    "\n",
    "steps = [('std_scaler', StandardScaler()),\n",
    "        ('rf_clf', RandomForestClassifier(random_state=42))]\n",
    "\n",
    "pipeline = Pipeline(steps)\n",
    "\n",
    "\n",
    "pipeline"
   ]
  },
  {
   "cell_type": "code",
   "execution_count": 10,
   "metadata": {},
   "outputs": [],
   "source": [
    "pipe_grid = {\n",
    "    'rf_clf__n_estimators': [25, 50, 100, 150],\n",
    "    'rf_clf__max_features': ['sqrt', 'log2', None],\n",
    "    'rf_clf__max_depth': [3, 6, 9, None],\n",
    "    'rf_clf__max_leaf_nodes': [3, 6, 9]}\n",
    "\n",
    "gs_pipe = GridSearchCV(estimator = pipeline,\n",
    "                      param_grid = pipe_grid)"
   ]
  },
  {
   "cell_type": "code",
   "execution_count": 11,
   "metadata": {},
   "outputs": [
    {
     "data": {
      "text/html": [
       "<style>div.sk-top-container {color: black;background-color: white;}div.sk-toggleable {background-color: white;}label.sk-toggleable__label {cursor: pointer;display: block;width: 100%;margin-bottom: 0;padding: 0.2em 0.3em;box-sizing: border-box;text-align: center;}div.sk-toggleable__content {max-height: 0;max-width: 0;overflow: hidden;text-align: left;background-color: #f0f8ff;}div.sk-toggleable__content pre {margin: 0.2em;color: black;border-radius: 0.25em;background-color: #f0f8ff;}input.sk-toggleable__control:checked~div.sk-toggleable__content {max-height: 200px;max-width: 100%;overflow: auto;}div.sk-estimator input.sk-toggleable__control:checked~label.sk-toggleable__label {background-color: #d4ebff;}div.sk-label input.sk-toggleable__control:checked~label.sk-toggleable__label {background-color: #d4ebff;}input.sk-hidden--visually {border: 0;clip: rect(1px 1px 1px 1px);clip: rect(1px, 1px, 1px, 1px);height: 1px;margin: -1px;overflow: hidden;padding: 0;position: absolute;width: 1px;}div.sk-estimator {font-family: monospace;background-color: #f0f8ff;margin: 0.25em 0.25em;border: 1px dotted black;border-radius: 0.25em;box-sizing: border-box;}div.sk-estimator:hover {background-color: #d4ebff;}div.sk-parallel-item::after {content: \"\";width: 100%;border-bottom: 1px solid gray;flex-grow: 1;}div.sk-label:hover label.sk-toggleable__label {background-color: #d4ebff;}div.sk-serial::before {content: \"\";position: absolute;border-left: 1px solid gray;box-sizing: border-box;top: 2em;bottom: 0;left: 50%;}div.sk-serial {display: flex;flex-direction: column;align-items: center;background-color: white;}div.sk-item {z-index: 1;}div.sk-parallel {display: flex;align-items: stretch;justify-content: center;background-color: white;}div.sk-parallel-item {display: flex;flex-direction: column;position: relative;background-color: white;}div.sk-parallel-item:first-child::after {align-self: flex-end;width: 50%;}div.sk-parallel-item:last-child::after {align-self: flex-start;width: 50%;}div.sk-parallel-item:only-child::after {width: 0;}div.sk-dashed-wrapped {border: 1px dashed gray;margin: 0.2em;box-sizing: border-box;padding-bottom: 0.1em;background-color: white;position: relative;}div.sk-label label {font-family: monospace;font-weight: bold;background-color: white;display: inline-block;line-height: 1.2em;}div.sk-label-container {position: relative;z-index: 2;text-align: center;}div.sk-container {display: inline-block;position: relative;}</style><div class=\"sk-top-container\"><div class=\"sk-container\"><div class=\"sk-item sk-dashed-wrapped\"><div class=\"sk-label-container\"><div class=\"sk-label sk-toggleable\"><input class=\"sk-toggleable__control sk-hidden--visually\" id=\"7069b998-ff5e-40c1-a598-42c16fc0a6e0\" type=\"checkbox\" ><label class=\"sk-toggleable__label\" for=\"7069b998-ff5e-40c1-a598-42c16fc0a6e0\">GridSearchCV</label><div class=\"sk-toggleable__content\"><pre>GridSearchCV(estimator=Pipeline(steps=[('std_scaler', StandardScaler()),\n",
       "                                       ('rf_clf',\n",
       "                                        RandomForestClassifier(random_state=42))]),\n",
       "             param_grid={'rf_clf__max_depth': [3, 6, 9, None],\n",
       "                         'rf_clf__max_features': ['sqrt', 'log2', None],\n",
       "                         'rf_clf__max_leaf_nodes': [3, 6, 9],\n",
       "                         'rf_clf__n_estimators': [25, 50, 100, 150]})</pre></div></div></div><div class=\"sk-parallel\"><div class=\"sk-parallel-item\"><div class=\"sk-item\"><div class=\"sk-serial\"><div class=\"sk-item\"><div class=\"sk-serial\"><div class=\"sk-item\"><div class=\"sk-estimator sk-toggleable\"><input class=\"sk-toggleable__control sk-hidden--visually\" id=\"baec1c0a-177e-402e-9618-c8061751c41d\" type=\"checkbox\" ><label class=\"sk-toggleable__label\" for=\"baec1c0a-177e-402e-9618-c8061751c41d\">StandardScaler</label><div class=\"sk-toggleable__content\"><pre>StandardScaler()</pre></div></div></div><div class=\"sk-item\"><div class=\"sk-estimator sk-toggleable\"><input class=\"sk-toggleable__control sk-hidden--visually\" id=\"3c3d65fa-f477-4591-85f5-dc6e56d047d7\" type=\"checkbox\" ><label class=\"sk-toggleable__label\" for=\"3c3d65fa-f477-4591-85f5-dc6e56d047d7\">RandomForestClassifier</label><div class=\"sk-toggleable__content\"><pre>RandomForestClassifier(random_state=42)</pre></div></div></div></div></div></div></div></div></div></div></div></div>"
      ],
      "text/plain": [
       "GridSearchCV(estimator=Pipeline(steps=[('std_scaler', StandardScaler()),\n",
       "                                       ('rf_clf',\n",
       "                                        RandomForestClassifier(random_state=42))]),\n",
       "             param_grid={'rf_clf__max_depth': [3, 6, 9, None],\n",
       "                         'rf_clf__max_features': ['sqrt', 'log2', None],\n",
       "                         'rf_clf__max_leaf_nodes': [3, 6, 9],\n",
       "                         'rf_clf__n_estimators': [25, 50, 100, 150]})"
      ]
     },
     "execution_count": 11,
     "metadata": {},
     "output_type": "execute_result"
    }
   ],
   "source": [
    "gs_pipe.fit(X_tr_num, y_train)"
   ]
  },
  {
   "cell_type": "code",
   "execution_count": 12,
   "metadata": {},
   "outputs": [
    {
     "data": {
      "text/plain": [
       "0.9123999010146002"
      ]
     },
     "execution_count": 12,
     "metadata": {},
     "output_type": "execute_result"
    }
   ],
   "source": [
    "gs_pipe.best_score_"
   ]
  },
  {
   "cell_type": "code",
   "execution_count": 13,
   "metadata": {},
   "outputs": [
    {
     "data": {
      "text/plain": [
       "{'rf_clf__max_depth': 6,\n",
       " 'rf_clf__max_features': None,\n",
       " 'rf_clf__max_leaf_nodes': 9,\n",
       " 'rf_clf__n_estimators': 150}"
      ]
     },
     "execution_count": 13,
     "metadata": {},
     "output_type": "execute_result"
    }
   ],
   "source": [
    "gs_pipe.best_params_"
   ]
  },
  {
   "cell_type": "code",
   "execution_count": 40,
   "metadata": {},
   "outputs": [],
   "source": [
    "co = gs_pipe.best_estimator_"
   ]
  },
  {
   "cell_type": "code",
   "execution_count": null,
   "metadata": {},
   "outputs": [],
   "source": []
  },
  {
   "cell_type": "code",
   "execution_count": 14,
   "metadata": {},
   "outputs": [
    {
     "data": {
      "text/html": [
       "<style>div.sk-top-container {color: black;background-color: white;}div.sk-toggleable {background-color: white;}label.sk-toggleable__label {cursor: pointer;display: block;width: 100%;margin-bottom: 0;padding: 0.2em 0.3em;box-sizing: border-box;text-align: center;}div.sk-toggleable__content {max-height: 0;max-width: 0;overflow: hidden;text-align: left;background-color: #f0f8ff;}div.sk-toggleable__content pre {margin: 0.2em;color: black;border-radius: 0.25em;background-color: #f0f8ff;}input.sk-toggleable__control:checked~div.sk-toggleable__content {max-height: 200px;max-width: 100%;overflow: auto;}div.sk-estimator input.sk-toggleable__control:checked~label.sk-toggleable__label {background-color: #d4ebff;}div.sk-label input.sk-toggleable__control:checked~label.sk-toggleable__label {background-color: #d4ebff;}input.sk-hidden--visually {border: 0;clip: rect(1px 1px 1px 1px);clip: rect(1px, 1px, 1px, 1px);height: 1px;margin: -1px;overflow: hidden;padding: 0;position: absolute;width: 1px;}div.sk-estimator {font-family: monospace;background-color: #f0f8ff;margin: 0.25em 0.25em;border: 1px dotted black;border-radius: 0.25em;box-sizing: border-box;}div.sk-estimator:hover {background-color: #d4ebff;}div.sk-parallel-item::after {content: \"\";width: 100%;border-bottom: 1px solid gray;flex-grow: 1;}div.sk-label:hover label.sk-toggleable__label {background-color: #d4ebff;}div.sk-serial::before {content: \"\";position: absolute;border-left: 1px solid gray;box-sizing: border-box;top: 2em;bottom: 0;left: 50%;}div.sk-serial {display: flex;flex-direction: column;align-items: center;background-color: white;}div.sk-item {z-index: 1;}div.sk-parallel {display: flex;align-items: stretch;justify-content: center;background-color: white;}div.sk-parallel-item {display: flex;flex-direction: column;position: relative;background-color: white;}div.sk-parallel-item:first-child::after {align-self: flex-end;width: 50%;}div.sk-parallel-item:last-child::after {align-self: flex-start;width: 50%;}div.sk-parallel-item:only-child::after {width: 0;}div.sk-dashed-wrapped {border: 1px dashed gray;margin: 0.2em;box-sizing: border-box;padding-bottom: 0.1em;background-color: white;position: relative;}div.sk-label label {font-family: monospace;font-weight: bold;background-color: white;display: inline-block;line-height: 1.2em;}div.sk-label-container {position: relative;z-index: 2;text-align: center;}div.sk-container {display: inline-block;position: relative;}</style><div class=\"sk-top-container\"><div class=\"sk-container\"><div class=\"sk-item sk-dashed-wrapped\"><div class=\"sk-label-container\"><div class=\"sk-label sk-toggleable\"><input class=\"sk-toggleable__control sk-hidden--visually\" id=\"b8a6eaf9-3daf-4644-90ab-18e0b7f1a86b\" type=\"checkbox\" ><label class=\"sk-toggleable__label\" for=\"b8a6eaf9-3daf-4644-90ab-18e0b7f1a86b\">Pipeline</label><div class=\"sk-toggleable__content\"><pre>Pipeline(steps=[('std_scaler', StandardScaler()),\n",
       "                ('rf_clf',\n",
       "                 RandomForestClassifier(max_depth=6, max_features=None,\n",
       "                                        max_leaf_nodes=9, n_estimators=150,\n",
       "                                        random_state=42))])</pre></div></div></div><div class=\"sk-serial\"><div class=\"sk-item\"><div class=\"sk-estimator sk-toggleable\"><input class=\"sk-toggleable__control sk-hidden--visually\" id=\"190de794-5551-4da4-a039-a66172c22ff8\" type=\"checkbox\" ><label class=\"sk-toggleable__label\" for=\"190de794-5551-4da4-a039-a66172c22ff8\">StandardScaler</label><div class=\"sk-toggleable__content\"><pre>StandardScaler()</pre></div></div></div><div class=\"sk-item\"><div class=\"sk-estimator sk-toggleable\"><input class=\"sk-toggleable__control sk-hidden--visually\" id=\"6d043c9b-910e-482c-bd91-b7c2a2bd73c2\" type=\"checkbox\" ><label class=\"sk-toggleable__label\" for=\"6d043c9b-910e-482c-bd91-b7c2a2bd73c2\">RandomForestClassifier</label><div class=\"sk-toggleable__content\"><pre>RandomForestClassifier(max_depth=6, max_features=None, max_leaf_nodes=9,\n",
       "                       n_estimators=150, random_state=42)</pre></div></div></div></div></div></div></div>"
      ],
      "text/plain": [
       "Pipeline(steps=[('std_scaler', StandardScaler()),\n",
       "                ('rf_clf',\n",
       "                 RandomForestClassifier(max_depth=6, max_features=None,\n",
       "                                        max_leaf_nodes=9, n_estimators=150,\n",
       "                                        random_state=42))])"
      ]
     },
     "execution_count": 14,
     "metadata": {},
     "output_type": "execute_result"
    }
   ],
   "source": [
    "# takes best estimators and puts in the variable called\n",
    "best_model = gs_pipe.best_estimator_\n",
    "best_model"
   ]
  },
  {
   "cell_type": "code",
   "execution_count": 15,
   "metadata": {},
   "outputs": [],
   "source": [
    "y_pred = best_model.predict(X_te_num)"
   ]
  },
  {
   "cell_type": "code",
   "execution_count": null,
   "metadata": {},
   "outputs": [],
   "source": []
  },
  {
   "cell_type": "code",
   "execution_count": 99,
   "metadata": {},
   "outputs": [
    {
     "data": {
      "image/png": "[encoded data removed]",
      "text/plain": [
       "<Figure size 432x288 with 2 Axes>"
      ]
     },
     "metadata": {
      "needs_background": "light"
     },
     "output_type": "display_data"
    }
   ],
   "source": [
    "fig, ax = plt.subplots()\n",
    "\n",
    "fig = plot_confusion_matrix(best_model,X_tr_num,y_train, ax =ax)\n",
    "ax.xaxis.set_ticklabels(['No Churc', 'Churn']); ax.yaxis.set_ticklabels(['No Churn', 'Churn']);"
   ]
  },
  {
   "cell_type": "code",
   "execution_count": 100,
   "metadata": {
    "scrolled": true
   },
   "outputs": [
    {
     "data": {
      "text/plain": [
       "0.762287988923503"
      ]
     },
     "execution_count": 100,
     "metadata": {},
     "output_type": "execute_result"
    }
   ],
   "source": [
    "from sklearn.metrics import recall_score\n",
    "recall_score(y_test ,y_pred, average='macro')"
   ]
  },
  {
   "cell_type": "code",
   "execution_count": null,
   "metadata": {},
   "outputs": [],
   "source": []
  },
  {
   "cell_type": "code",
   "execution_count": null,
   "metadata": {},
   "outputs": [],
   "source": []
  },
  {
   "cell_type": "code",
   "execution_count": null,
   "metadata": {},
   "outputs": [],
   "source": []
  },
  {
   "cell_type": "code",
   "execution_count": 17,
   "metadata": {},
   "outputs": [
    {
     "name": "stdout",
     "output_type": "stream",
     "text": [
      "              precision    recall  f1-score   support\n",
      "\n",
      "       False       0.93      0.99      0.96       642\n",
      "        True       0.88      0.54      0.67       108\n",
      "\n",
      "    accuracy                           0.92       750\n",
      "   macro avg       0.90      0.76      0.81       750\n",
      "weighted avg       0.92      0.92      0.91       750\n",
      "\n"
     ]
    }
   ],
   "source": [
    "from sklearn.metrics import classification_report\n",
    "print(classification_report(y_test, y_pred))"
   ]
  },
  {
   "cell_type": "code",
   "execution_count": 18,
   "metadata": {},
   "outputs": [
    {
     "data": {
      "text/html": [
       "<style>div.sk-top-container {color: black;background-color: white;}div.sk-toggleable {background-color: white;}label.sk-toggleable__label {cursor: pointer;display: block;width: 100%;margin-bottom: 0;padding: 0.2em 0.3em;box-sizing: border-box;text-align: center;}div.sk-toggleable__content {max-height: 0;max-width: 0;overflow: hidden;text-align: left;background-color: #f0f8ff;}div.sk-toggleable__content pre {margin: 0.2em;color: black;border-radius: 0.25em;background-color: #f0f8ff;}input.sk-toggleable__control:checked~div.sk-toggleable__content {max-height: 200px;max-width: 100%;overflow: auto;}div.sk-estimator input.sk-toggleable__control:checked~label.sk-toggleable__label {background-color: #d4ebff;}div.sk-label input.sk-toggleable__control:checked~label.sk-toggleable__label {background-color: #d4ebff;}input.sk-hidden--visually {border: 0;clip: rect(1px 1px 1px 1px);clip: rect(1px, 1px, 1px, 1px);height: 1px;margin: -1px;overflow: hidden;padding: 0;position: absolute;width: 1px;}div.sk-estimator {font-family: monospace;background-color: #f0f8ff;margin: 0.25em 0.25em;border: 1px dotted black;border-radius: 0.25em;box-sizing: border-box;}div.sk-estimator:hover {background-color: #d4ebff;}div.sk-parallel-item::after {content: \"\";width: 100%;border-bottom: 1px solid gray;flex-grow: 1;}div.sk-label:hover label.sk-toggleable__label {background-color: #d4ebff;}div.sk-serial::before {content: \"\";position: absolute;border-left: 1px solid gray;box-sizing: border-box;top: 2em;bottom: 0;left: 50%;}div.sk-serial {display: flex;flex-direction: column;align-items: center;background-color: white;}div.sk-item {z-index: 1;}div.sk-parallel {display: flex;align-items: stretch;justify-content: center;background-color: white;}div.sk-parallel-item {display: flex;flex-direction: column;position: relative;background-color: white;}div.sk-parallel-item:first-child::after {align-self: flex-end;width: 50%;}div.sk-parallel-item:last-child::after {align-self: flex-start;width: 50%;}div.sk-parallel-item:only-child::after {width: 0;}div.sk-dashed-wrapped {border: 1px dashed gray;margin: 0.2em;box-sizing: border-box;padding-bottom: 0.1em;background-color: white;position: relative;}div.sk-label label {font-family: monospace;font-weight: bold;background-color: white;display: inline-block;line-height: 1.2em;}div.sk-label-container {position: relative;z-index: 2;text-align: center;}div.sk-container {display: inline-block;position: relative;}</style><div class=\"sk-top-container\"><div class=\"sk-container\"><div class=\"sk-item sk-dashed-wrapped\"><div class=\"sk-label-container\"><div class=\"sk-label sk-toggleable\"><input class=\"sk-toggleable__control sk-hidden--visually\" id=\"54fd5f61-7b23-4c50-a32e-b06488e55a87\" type=\"checkbox\" ><label class=\"sk-toggleable__label\" for=\"54fd5f61-7b23-4c50-a32e-b06488e55a87\">Pipeline</label><div class=\"sk-toggleable__content\"><pre>Pipeline(steps=[('std_scaler', StandardScaler()),\n",
       "                ('rf_clf',\n",
       "                 RandomForestClassifier(max_depth=6, max_features=None,\n",
       "                                        max_leaf_nodes=9, n_estimators=150,\n",
       "                                        random_state=42))])</pre></div></div></div><div class=\"sk-serial\"><div class=\"sk-item\"><div class=\"sk-estimator sk-toggleable\"><input class=\"sk-toggleable__control sk-hidden--visually\" id=\"7526ead8-9d02-43c7-bbda-c1b5eecb60ab\" type=\"checkbox\" ><label class=\"sk-toggleable__label\" for=\"7526ead8-9d02-43c7-bbda-c1b5eecb60ab\">StandardScaler</label><div class=\"sk-toggleable__content\"><pre>StandardScaler()</pre></div></div></div><div class=\"sk-item\"><div class=\"sk-estimator sk-toggleable\"><input class=\"sk-toggleable__control sk-hidden--visually\" id=\"c4b9f286-ebe6-48bc-86d2-75ab6b880c68\" type=\"checkbox\" ><label class=\"sk-toggleable__label\" for=\"c4b9f286-ebe6-48bc-86d2-75ab6b880c68\">RandomForestClassifier</label><div class=\"sk-toggleable__content\"><pre>RandomForestClassifier(max_depth=6, max_features=None, max_leaf_nodes=9,\n",
       "                       n_estimators=150, random_state=42)</pre></div></div></div></div></div></div></div>"
      ],
      "text/plain": [
       "Pipeline(steps=[('std_scaler', StandardScaler()),\n",
       "                ('rf_clf',\n",
       "                 RandomForestClassifier(max_depth=6, max_features=None,\n",
       "                                        max_leaf_nodes=9, n_estimators=150,\n",
       "                                        random_state=42))])"
      ]
     },
     "execution_count": 18,
     "metadata": {},
     "output_type": "execute_result"
    }
   ],
   "source": [
    "best_model.fit(X_tr_num, y_train)"
   ]
  },
  {
   "cell_type": "code",
   "execution_count": 19,
   "metadata": {},
   "outputs": [
    {
     "name": "stdout",
     "output_type": "stream",
     "text": [
      "0.9221876389506447\n"
     ]
    }
   ],
   "source": [
    "print(best_model.score(X_tr_num, y_train))"
   ]
  },
  {
   "cell_type": "code",
   "execution_count": 20,
   "metadata": {},
   "outputs": [
    {
     "name": "stdout",
     "output_type": "stream",
     "text": [
      "0.9226666666666666\n"
     ]
    }
   ],
   "source": [
    "print(best_model.score(X_te_num, y_test))"
   ]
  },
  {
   "cell_type": "code",
   "execution_count": 21,
   "metadata": {},
   "outputs": [
    {
     "data": {
      "text/plain": [
       "<sklearn.metrics._plot.roc_curve.RocCurveDisplay at 0x7fdc3aec0c10>"
      ]
     },
     "execution_count": 21,
     "metadata": {},
     "output_type": "execute_result"
    },
    {
     "data": {
      "image/png": "[encoded data removed]",
      "text/plain": [
       "<Figure size 432x288 with 1 Axes>"
      ]
     },
     "metadata": {
      "needs_background": "light"
     },
     "output_type": "display_data"
    }
   ],
   "source": [
    "from sklearn.metrics import roc_curve\n",
    "from sklearn.metrics import roc_auc_score\n",
    "from sklearn.metrics import plot_roc_curve\n",
    "plot_roc_curve(best_model,X_tr_num,y_train)"
   ]
  },
  {
   "cell_type": "code",
   "execution_count": 63,
   "metadata": {},
   "outputs": [],
   "source": [
    "# no coef_ with random forest, its feature importances\n",
    "\n",
    "co = best_model.steps[1][1].feature_importances_"
   ]
  },
  {
   "cell_type": "code",
   "execution_count": 64,
   "metadata": {},
   "outputs": [],
   "source": [
    "name = X_tr_num.columns"
   ]
  },
  {
   "cell_type": "code",
   "execution_count": 76,
   "metadata": {},
   "outputs": [
    {
     "data": {
      "text/plain": [
       "[0.00026975506445076796,\n",
       " 0.1178346992055266,\n",
       " 0.23908465176203658,\n",
       " 0.0,\n",
       " 0.2440821399182749,\n",
       " 0.08920398810127429,\n",
       " 0.0,\n",
       " 0.09620613330784217,\n",
       " 0.002386614994520551,\n",
       " 0.0007558721536219264,\n",
       " 0.002518342496949823,\n",
       " 0.0015685827672915413,\n",
       " 0.0011179225787958094,\n",
       " 0.001951881355023135,\n",
       " 0.20301941629439185]"
      ]
     },
     "execution_count": 76,
     "metadata": {},
     "output_type": "execute_result"
    }
   ],
   "source": [
    "co = list(co)\n",
    "co"
   ]
  },
  {
   "cell_type": "code",
   "execution_count": 79,
   "metadata": {},
   "outputs": [],
   "source": [
    "names = pd.DataFrame({'Names' : name,\n",
    "                                'Feature_Importance' : co})"
   ]
  },
  {
   "cell_type": "code",
   "execution_count": 111,
   "metadata": {},
   "outputs": [
    {
     "data": {
      "text/html": [
       "<div>\n",
       "<style scoped>\n",
       "    .dataframe tbody tr th:only-of-type {\n",
       "        vertical-align: middle;\n",
       "    }\n",
       "\n",
       "    .dataframe tbody tr th {\n",
       "        vertical-align: top;\n",
       "    }\n",
       "\n",
       "    .dataframe thead th {\n",
       "        text-align: right;\n",
       "    }\n",
       "</style>\n",
       "<table border=\"1\" class=\"dataframe\">\n",
       "  <thead>\n",
       "    <tr style=\"text-align: right;\">\n",
       "      <th></th>\n",
       "      <th>Names</th>\n",
       "      <th>Feature_Importance</th>\n",
       "    </tr>\n",
       "  </thead>\n",
       "  <tbody>\n",
       "    <tr>\n",
       "      <th>4</th>\n",
       "      <td>total day charge</td>\n",
       "      <td>0.244082</td>\n",
       "    </tr>\n",
       "    <tr>\n",
       "      <th>2</th>\n",
       "      <td>total day minutes</td>\n",
       "      <td>0.239085</td>\n",
       "    </tr>\n",
       "    <tr>\n",
       "      <th>14</th>\n",
       "      <td>customer service calls</td>\n",
       "      <td>0.203019</td>\n",
       "    </tr>\n",
       "    <tr>\n",
       "      <th>1</th>\n",
       "      <td>number vmail messages</td>\n",
       "      <td>0.117835</td>\n",
       "    </tr>\n",
       "    <tr>\n",
       "      <th>7</th>\n",
       "      <td>total eve charge</td>\n",
       "      <td>0.096206</td>\n",
       "    </tr>\n",
       "    <tr>\n",
       "      <th>5</th>\n",
       "      <td>total eve minutes</td>\n",
       "      <td>0.089204</td>\n",
       "    </tr>\n",
       "    <tr>\n",
       "      <th>10</th>\n",
       "      <td>total night charge</td>\n",
       "      <td>0.002518</td>\n",
       "    </tr>\n",
       "    <tr>\n",
       "      <th>8</th>\n",
       "      <td>total night minutes</td>\n",
       "      <td>0.002387</td>\n",
       "    </tr>\n",
       "    <tr>\n",
       "      <th>13</th>\n",
       "      <td>total intl charge</td>\n",
       "      <td>0.001952</td>\n",
       "    </tr>\n",
       "    <tr>\n",
       "      <th>11</th>\n",
       "      <td>total intl minutes</td>\n",
       "      <td>0.001569</td>\n",
       "    </tr>\n",
       "    <tr>\n",
       "      <th>12</th>\n",
       "      <td>total intl calls</td>\n",
       "      <td>0.001118</td>\n",
       "    </tr>\n",
       "    <tr>\n",
       "      <th>9</th>\n",
       "      <td>total night calls</td>\n",
       "      <td>0.000756</td>\n",
       "    </tr>\n",
       "    <tr>\n",
       "      <th>0</th>\n",
       "      <td>account length</td>\n",
       "      <td>0.000270</td>\n",
       "    </tr>\n",
       "    <tr>\n",
       "      <th>3</th>\n",
       "      <td>total day calls</td>\n",
       "      <td>0.000000</td>\n",
       "    </tr>\n",
       "    <tr>\n",
       "      <th>6</th>\n",
       "      <td>total eve calls</td>\n",
       "      <td>0.000000</td>\n",
       "    </tr>\n",
       "  </tbody>\n",
       "</table>\n",
       "</div>"
      ],
      "text/plain": [
       "                     Names  Feature_Importance\n",
       "4         total day charge            0.244082\n",
       "2        total day minutes            0.239085\n",
       "14  customer service calls            0.203019\n",
       "1    number vmail messages            0.117835\n",
       "7         total eve charge            0.096206\n",
       "5        total eve minutes            0.089204\n",
       "10      total night charge            0.002518\n",
       "8      total night minutes            0.002387\n",
       "13       total intl charge            0.001952\n",
       "11      total intl minutes            0.001569\n",
       "12        total intl calls            0.001118\n",
       "9        total night calls            0.000756\n",
       "0           account length            0.000270\n",
       "3          total day calls            0.000000\n",
       "6          total eve calls            0.000000"
      ]
     },
     "execution_count": 111,
     "metadata": {},
     "output_type": "execute_result"
    }
   ],
   "source": [
    "top=names.sort_values('Feature_Importance',ascending = False)\n",
    "top"
   ]
  },
  {
   "cell_type": "code",
   "execution_count": 117,
   "metadata": {},
   "outputs": [
    {
     "data": {
      "image/png": "[encoded data removed]",
      "text/plain": [
       "<Figure size 432x288 with 1 Axes>"
      ]
     },
     "metadata": {
      "needs_background": "light"
     },
     "output_type": "display_data"
    }
   ],
   "source": [
    "top.plot(x='Names', y='Feature_Importance', kind='bar')\n",
    "plt.xlabel('Factors', fontsize=20)\n",
    "plt.ylabel('Affect on Model', fontsize=14)\n",
    "plt.show()"
   ]
  },
  {
   "cell_type": "code",
   "execution_count": 105,
   "metadata": {},
   "outputs": [
    {
     "data": {
      "text/html": [
       "<div>\n",
       "<style scoped>\n",
       "    .dataframe tbody tr th:only-of-type {\n",
       "        vertical-align: middle;\n",
       "    }\n",
       "\n",
       "    .dataframe tbody tr th {\n",
       "        vertical-align: top;\n",
       "    }\n",
       "\n",
       "    .dataframe thead th {\n",
       "        text-align: right;\n",
       "    }\n",
       "</style>\n",
       "<table border=\"1\" class=\"dataframe\">\n",
       "  <thead>\n",
       "    <tr style=\"text-align: right;\">\n",
       "      <th></th>\n",
       "      <th>account length</th>\n",
       "      <th>number vmail messages</th>\n",
       "      <th>total day minutes</th>\n",
       "      <th>total day calls</th>\n",
       "      <th>total day charge</th>\n",
       "      <th>total eve minutes</th>\n",
       "      <th>total eve calls</th>\n",
       "      <th>total eve charge</th>\n",
       "      <th>total night minutes</th>\n",
       "      <th>total night calls</th>\n",
       "      <th>total night charge</th>\n",
       "      <th>total intl minutes</th>\n",
       "      <th>total intl calls</th>\n",
       "      <th>total intl charge</th>\n",
       "      <th>customer service calls</th>\n",
       "    </tr>\n",
       "  </thead>\n",
       "  <tbody>\n",
       "    <tr>\n",
       "      <th>93</th>\n",
       "      <td>142</td>\n",
       "      <td>0</td>\n",
       "      <td>140.8</td>\n",
       "      <td>140</td>\n",
       "      <td>23.94</td>\n",
       "      <td>228.6</td>\n",
       "      <td>119</td>\n",
       "      <td>19.43</td>\n",
       "      <td>152.9</td>\n",
       "      <td>88</td>\n",
       "      <td>6.88</td>\n",
       "      <td>10.9</td>\n",
       "      <td>7</td>\n",
       "      <td>2.94</td>\n",
       "      <td>1</td>\n",
       "    </tr>\n",
       "    <tr>\n",
       "      <th>419</th>\n",
       "      <td>135</td>\n",
       "      <td>0</td>\n",
       "      <td>201.8</td>\n",
       "      <td>81</td>\n",
       "      <td>34.31</td>\n",
       "      <td>225.0</td>\n",
       "      <td>114</td>\n",
       "      <td>19.13</td>\n",
       "      <td>204.4</td>\n",
       "      <td>82</td>\n",
       "      <td>9.20</td>\n",
       "      <td>10.3</td>\n",
       "      <td>6</td>\n",
       "      <td>2.78</td>\n",
       "      <td>1</td>\n",
       "    </tr>\n",
       "    <tr>\n",
       "      <th>2907</th>\n",
       "      <td>134</td>\n",
       "      <td>32</td>\n",
       "      <td>216.8</td>\n",
       "      <td>78</td>\n",
       "      <td>36.86</td>\n",
       "      <td>102.2</td>\n",
       "      <td>111</td>\n",
       "      <td>8.69</td>\n",
       "      <td>174.0</td>\n",
       "      <td>83</td>\n",
       "      <td>7.83</td>\n",
       "      <td>8.6</td>\n",
       "      <td>2</td>\n",
       "      <td>2.32</td>\n",
       "      <td>0</td>\n",
       "    </tr>\n",
       "    <tr>\n",
       "      <th>2525</th>\n",
       "      <td>103</td>\n",
       "      <td>36</td>\n",
       "      <td>87.2</td>\n",
       "      <td>92</td>\n",
       "      <td>14.82</td>\n",
       "      <td>169.3</td>\n",
       "      <td>110</td>\n",
       "      <td>14.39</td>\n",
       "      <td>166.7</td>\n",
       "      <td>80</td>\n",
       "      <td>7.50</td>\n",
       "      <td>10.9</td>\n",
       "      <td>5</td>\n",
       "      <td>2.94</td>\n",
       "      <td>6</td>\n",
       "    </tr>\n",
       "    <tr>\n",
       "      <th>2592</th>\n",
       "      <td>92</td>\n",
       "      <td>29</td>\n",
       "      <td>201.3</td>\n",
       "      <td>130</td>\n",
       "      <td>34.22</td>\n",
       "      <td>203.7</td>\n",
       "      <td>115</td>\n",
       "      <td>17.31</td>\n",
       "      <td>129.9</td>\n",
       "      <td>113</td>\n",
       "      <td>5.85</td>\n",
       "      <td>6.4</td>\n",
       "      <td>6</td>\n",
       "      <td>1.73</td>\n",
       "      <td>1</td>\n",
       "    </tr>\n",
       "  </tbody>\n",
       "</table>\n",
       "</div>"
      ],
      "text/plain": [
       "      account length  number vmail messages  total day minutes  \\\n",
       "93               142                      0              140.8   \n",
       "419              135                      0              201.8   \n",
       "2907             134                     32              216.8   \n",
       "2525             103                     36               87.2   \n",
       "2592              92                     29              201.3   \n",
       "\n",
       "      total day calls  total day charge  total eve minutes  total eve calls  \\\n",
       "93                140             23.94              228.6              119   \n",
       "419                81             34.31              225.0              114   \n",
       "2907               78             36.86              102.2              111   \n",
       "2525               92             14.82              169.3              110   \n",
       "2592              130             34.22              203.7              115   \n",
       "\n",
       "      total eve charge  total night minutes  total night calls  \\\n",
       "93               19.43                152.9                 88   \n",
       "419              19.13                204.4                 82   \n",
       "2907              8.69                174.0                 83   \n",
       "2525             14.39                166.7                 80   \n",
       "2592             17.31                129.9                113   \n",
       "\n",
       "      total night charge  total intl minutes  total intl calls  \\\n",
       "93                  6.88                10.9                 7   \n",
       "419                 9.20                10.3                 6   \n",
       "2907                7.83                 8.6                 2   \n",
       "2525                7.50                10.9                 5   \n",
       "2592                5.85                 6.4                 6   \n",
       "\n",
       "      total intl charge  customer service calls  \n",
       "93                 2.94                       1  \n",
       "419                2.78                       1  \n",
       "2907               2.32                       0  \n",
       "2525               2.94                       6  \n",
       "2592               1.73                       1  "
      ]
     },
     "execution_count": 105,
     "metadata": {},
     "output_type": "execute_result"
    }
   ],
   "source": [
    "X_tr_num.head()"
   ]
  },
  {
   "cell_type": "code",
   "execution_count": null,
   "metadata": {},
   "outputs": [],
   "source": []
  }
 ],
 "metadata": {
  "kernelspec": {
   "display_name": "Python (learn-env)",
   "language": "python",
   "name": "learn-env"
  },
  "language_info": {
   "codemirror_mode": {
    "name": "ipython",
    "version": 3
   },
   "file_extension": ".py",
   "mimetype": "text/x-python",
   "name": "python",
   "nbconvert_exporter": "python",
   "pygments_lexer": "ipython3",
   "version": "3.8.5"
  }
 },
 "nbformat": 4,
 "nbformat_minor": 4
}
