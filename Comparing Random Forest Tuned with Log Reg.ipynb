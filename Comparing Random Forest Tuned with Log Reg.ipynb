{
 "cells": [
  {
   "cell_type": "code",
   "execution_count": 1,
   "metadata": {},
   "outputs": [],
   "source": [
    "import numpy as np\n",
    "import pandas as pd\n",
    "from matplotlib import pyplot as plt\n",
    "import seaborn as sns\n",
    "from scipy import stats as stats\n",
    "\n",
    "from sklearn.linear_model import LogisticRegression\n",
    "from sklearn.neighbors import KNeighborsClassifier\n",
    "from sklearn.tree import DecisionTreeClassifier\n",
    "\n",
    "from sklearn.metrics import precision_score, recall_score, plot_confusion_matrix\n",
    "from sklearn.model_selection import train_test_split, GridSearchCV,\\\n",
    "cross_val_score, RandomizedSearchCV\n",
    "\n",
    "from sklearn.preprocessing import OneHotEncoder, StandardScaler, Normalizer\n",
    "from sklearn.impute import SimpleImputer\n",
    "\n",
    "from sklearn.compose import ColumnTransformer"
   ]
  },
  {
   "cell_type": "code",
   "execution_count": 2,
   "metadata": {},
   "outputs": [
    {
     "data": {
      "text/plain": [
       "(334, 22)"
      ]
     },
     "execution_count": 2,
     "metadata": {},
     "output_type": "execute_result"
    }
   ],
   "source": [
    "test_df = pd.read_csv('/Users/mahmoud/Documents/Project_3/test.csv')\n",
    "\n",
    "test_df.shape"
   ]
  },
  {
   "cell_type": "code",
   "execution_count": 3,
   "metadata": {},
   "outputs": [
    {
     "data": {
      "text/plain": [
       "(2999, 22)"
      ]
     },
     "execution_count": 3,
     "metadata": {},
     "output_type": "execute_result"
    }
   ],
   "source": [
    "train_df = pd.read_csv('/Users/mahmoud/Documents/Project_3/train.csv')\n",
    "\n",
    "train_df.shape"
   ]
  },
  {
   "cell_type": "code",
   "execution_count": 4,
   "metadata": {},
   "outputs": [],
   "source": [
    "test_df = test_df.drop(columns=['Unnamed: 0'])\n",
    "train_df = train_df.drop(columns=['Unnamed: 0'])"
   ]
  },
  {
   "cell_type": "code",
   "execution_count": 5,
   "metadata": {},
   "outputs": [],
   "source": [
    "X = train_df.drop(['churn'], axis = 1)\n",
    "y = train_df['churn']"
   ]
  },
  {
   "cell_type": "code",
   "execution_count": 6,
   "metadata": {},
   "outputs": [
    {
     "data": {
      "text/plain": [
       "False    0.856619\n",
       "True     0.143381\n",
       "Name: churn, dtype: float64"
      ]
     },
     "execution_count": 6,
     "metadata": {},
     "output_type": "execute_result"
    }
   ],
   "source": [
    "y.value_counts(normalize = True)"
   ]
  },
  {
   "cell_type": "code",
   "execution_count": 7,
   "metadata": {},
   "outputs": [],
   "source": [
    "X_train, X_test, y_train, y_test = train_test_split(X, y, stratify = y, test_size = 0.25, random_state = 42)"
   ]
  },
  {
   "cell_type": "code",
   "execution_count": 8,
   "metadata": {},
   "outputs": [],
   "source": [
    "from sklearn.pipeline import Pipeline\n",
    "from sklearn.impute import SimpleImputer\n",
    "from sklearn.preprocessing import LabelEncoder\n",
    "from sklearn.preprocessing import OrdinalEncoder\n",
    "from sklearn.preprocessing import OneHotEncoder\n",
    "from sklearn.preprocessing import StandardScaler\n",
    "from sklearn.preprocessing import MaxAbsScaler\n",
    "from sklearn.compose import ColumnTransformer\n",
    "from sklearn.model_selection import RepeatedStratifiedKFold\n",
    "from sklearn import set_config\n",
    "set_config(display='diagram')"
   ]
  },
  {
   "cell_type": "code",
   "execution_count": 9,
   "metadata": {},
   "outputs": [
    {
     "data": {
      "text/html": [
       "<div>\n",
       "<style scoped>\n",
       "    .dataframe tbody tr th:only-of-type {\n",
       "        vertical-align: middle;\n",
       "    }\n",
       "\n",
       "    .dataframe tbody tr th {\n",
       "        vertical-align: top;\n",
       "    }\n",
       "\n",
       "    .dataframe thead th {\n",
       "        text-align: right;\n",
       "    }\n",
       "</style>\n",
       "<table border=\"1\" class=\"dataframe\">\n",
       "  <thead>\n",
       "    <tr style=\"text-align: right;\">\n",
       "      <th></th>\n",
       "      <th>account length</th>\n",
       "      <th>number vmail messages</th>\n",
       "      <th>total day minutes</th>\n",
       "      <th>total day calls</th>\n",
       "      <th>total day charge</th>\n",
       "      <th>total eve minutes</th>\n",
       "      <th>total eve calls</th>\n",
       "      <th>total eve charge</th>\n",
       "      <th>total night minutes</th>\n",
       "      <th>total night calls</th>\n",
       "      <th>total night charge</th>\n",
       "      <th>total intl minutes</th>\n",
       "      <th>total intl calls</th>\n",
       "      <th>total intl charge</th>\n",
       "      <th>customer service calls</th>\n",
       "    </tr>\n",
       "  </thead>\n",
       "  <tbody>\n",
       "    <tr>\n",
       "      <th>93</th>\n",
       "      <td>142</td>\n",
       "      <td>0</td>\n",
       "      <td>140.8</td>\n",
       "      <td>140</td>\n",
       "      <td>23.94</td>\n",
       "      <td>228.6</td>\n",
       "      <td>119</td>\n",
       "      <td>19.43</td>\n",
       "      <td>152.9</td>\n",
       "      <td>88</td>\n",
       "      <td>6.88</td>\n",
       "      <td>10.9</td>\n",
       "      <td>7</td>\n",
       "      <td>2.94</td>\n",
       "      <td>1</td>\n",
       "    </tr>\n",
       "    <tr>\n",
       "      <th>419</th>\n",
       "      <td>135</td>\n",
       "      <td>0</td>\n",
       "      <td>201.8</td>\n",
       "      <td>81</td>\n",
       "      <td>34.31</td>\n",
       "      <td>225.0</td>\n",
       "      <td>114</td>\n",
       "      <td>19.13</td>\n",
       "      <td>204.4</td>\n",
       "      <td>82</td>\n",
       "      <td>9.20</td>\n",
       "      <td>10.3</td>\n",
       "      <td>6</td>\n",
       "      <td>2.78</td>\n",
       "      <td>1</td>\n",
       "    </tr>\n",
       "    <tr>\n",
       "      <th>2907</th>\n",
       "      <td>134</td>\n",
       "      <td>32</td>\n",
       "      <td>216.8</td>\n",
       "      <td>78</td>\n",
       "      <td>36.86</td>\n",
       "      <td>102.2</td>\n",
       "      <td>111</td>\n",
       "      <td>8.69</td>\n",
       "      <td>174.0</td>\n",
       "      <td>83</td>\n",
       "      <td>7.83</td>\n",
       "      <td>8.6</td>\n",
       "      <td>2</td>\n",
       "      <td>2.32</td>\n",
       "      <td>0</td>\n",
       "    </tr>\n",
       "    <tr>\n",
       "      <th>2525</th>\n",
       "      <td>103</td>\n",
       "      <td>36</td>\n",
       "      <td>87.2</td>\n",
       "      <td>92</td>\n",
       "      <td>14.82</td>\n",
       "      <td>169.3</td>\n",
       "      <td>110</td>\n",
       "      <td>14.39</td>\n",
       "      <td>166.7</td>\n",
       "      <td>80</td>\n",
       "      <td>7.50</td>\n",
       "      <td>10.9</td>\n",
       "      <td>5</td>\n",
       "      <td>2.94</td>\n",
       "      <td>6</td>\n",
       "    </tr>\n",
       "    <tr>\n",
       "      <th>2592</th>\n",
       "      <td>92</td>\n",
       "      <td>29</td>\n",
       "      <td>201.3</td>\n",
       "      <td>130</td>\n",
       "      <td>34.22</td>\n",
       "      <td>203.7</td>\n",
       "      <td>115</td>\n",
       "      <td>17.31</td>\n",
       "      <td>129.9</td>\n",
       "      <td>113</td>\n",
       "      <td>5.85</td>\n",
       "      <td>6.4</td>\n",
       "      <td>6</td>\n",
       "      <td>1.73</td>\n",
       "      <td>1</td>\n",
       "    </tr>\n",
       "    <tr>\n",
       "      <th>...</th>\n",
       "      <td>...</td>\n",
       "      <td>...</td>\n",
       "      <td>...</td>\n",
       "      <td>...</td>\n",
       "      <td>...</td>\n",
       "      <td>...</td>\n",
       "      <td>...</td>\n",
       "      <td>...</td>\n",
       "      <td>...</td>\n",
       "      <td>...</td>\n",
       "      <td>...</td>\n",
       "      <td>...</td>\n",
       "      <td>...</td>\n",
       "      <td>...</td>\n",
       "      <td>...</td>\n",
       "    </tr>\n",
       "    <tr>\n",
       "      <th>394</th>\n",
       "      <td>65</td>\n",
       "      <td>29</td>\n",
       "      <td>158.1</td>\n",
       "      <td>104</td>\n",
       "      <td>26.88</td>\n",
       "      <td>322.2</td>\n",
       "      <td>81</td>\n",
       "      <td>27.39</td>\n",
       "      <td>210.0</td>\n",
       "      <td>96</td>\n",
       "      <td>9.45</td>\n",
       "      <td>8.9</td>\n",
       "      <td>6</td>\n",
       "      <td>2.40</td>\n",
       "      <td>1</td>\n",
       "    </tr>\n",
       "    <tr>\n",
       "      <th>683</th>\n",
       "      <td>55</td>\n",
       "      <td>25</td>\n",
       "      <td>165.6</td>\n",
       "      <td>123</td>\n",
       "      <td>28.15</td>\n",
       "      <td>136.1</td>\n",
       "      <td>95</td>\n",
       "      <td>11.57</td>\n",
       "      <td>175.7</td>\n",
       "      <td>90</td>\n",
       "      <td>7.91</td>\n",
       "      <td>11.0</td>\n",
       "      <td>2</td>\n",
       "      <td>2.97</td>\n",
       "      <td>3</td>\n",
       "    </tr>\n",
       "    <tr>\n",
       "      <th>2688</th>\n",
       "      <td>103</td>\n",
       "      <td>0</td>\n",
       "      <td>246.5</td>\n",
       "      <td>47</td>\n",
       "      <td>41.91</td>\n",
       "      <td>195.5</td>\n",
       "      <td>84</td>\n",
       "      <td>16.62</td>\n",
       "      <td>200.5</td>\n",
       "      <td>96</td>\n",
       "      <td>9.02</td>\n",
       "      <td>11.7</td>\n",
       "      <td>4</td>\n",
       "      <td>3.16</td>\n",
       "      <td>1</td>\n",
       "    </tr>\n",
       "    <tr>\n",
       "      <th>2687</th>\n",
       "      <td>80</td>\n",
       "      <td>0</td>\n",
       "      <td>189.1</td>\n",
       "      <td>122</td>\n",
       "      <td>32.15</td>\n",
       "      <td>223.2</td>\n",
       "      <td>92</td>\n",
       "      <td>18.97</td>\n",
       "      <td>269.0</td>\n",
       "      <td>116</td>\n",
       "      <td>12.11</td>\n",
       "      <td>13.9</td>\n",
       "      <td>3</td>\n",
       "      <td>3.75</td>\n",
       "      <td>2</td>\n",
       "    </tr>\n",
       "    <tr>\n",
       "      <th>531</th>\n",
       "      <td>38</td>\n",
       "      <td>36</td>\n",
       "      <td>115.4</td>\n",
       "      <td>98</td>\n",
       "      <td>19.62</td>\n",
       "      <td>166.2</td>\n",
       "      <td>83</td>\n",
       "      <td>14.13</td>\n",
       "      <td>184.7</td>\n",
       "      <td>79</td>\n",
       "      <td>8.31</td>\n",
       "      <td>15.2</td>\n",
       "      <td>6</td>\n",
       "      <td>4.10</td>\n",
       "      <td>2</td>\n",
       "    </tr>\n",
       "  </tbody>\n",
       "</table>\n",
       "<p>2249 rows × 15 columns</p>\n",
       "</div>"
      ],
      "text/plain": [
       "      account length  number vmail messages  total day minutes  \\\n",
       "93               142                      0              140.8   \n",
       "419              135                      0              201.8   \n",
       "2907             134                     32              216.8   \n",
       "2525             103                     36               87.2   \n",
       "2592              92                     29              201.3   \n",
       "...              ...                    ...                ...   \n",
       "394               65                     29              158.1   \n",
       "683               55                     25              165.6   \n",
       "2688             103                      0              246.5   \n",
       "2687              80                      0              189.1   \n",
       "531               38                     36              115.4   \n",
       "\n",
       "      total day calls  total day charge  total eve minutes  total eve calls  \\\n",
       "93                140             23.94              228.6              119   \n",
       "419                81             34.31              225.0              114   \n",
       "2907               78             36.86              102.2              111   \n",
       "2525               92             14.82              169.3              110   \n",
       "2592              130             34.22              203.7              115   \n",
       "...               ...               ...                ...              ...   \n",
       "394               104             26.88              322.2               81   \n",
       "683               123             28.15              136.1               95   \n",
       "2688               47             41.91              195.5               84   \n",
       "2687              122             32.15              223.2               92   \n",
       "531                98             19.62              166.2               83   \n",
       "\n",
       "      total eve charge  total night minutes  total night calls  \\\n",
       "93               19.43                152.9                 88   \n",
       "419              19.13                204.4                 82   \n",
       "2907              8.69                174.0                 83   \n",
       "2525             14.39                166.7                 80   \n",
       "2592             17.31                129.9                113   \n",
       "...                ...                  ...                ...   \n",
       "394              27.39                210.0                 96   \n",
       "683              11.57                175.7                 90   \n",
       "2688             16.62                200.5                 96   \n",
       "2687             18.97                269.0                116   \n",
       "531              14.13                184.7                 79   \n",
       "\n",
       "      total night charge  total intl minutes  total intl calls  \\\n",
       "93                  6.88                10.9                 7   \n",
       "419                 9.20                10.3                 6   \n",
       "2907                7.83                 8.6                 2   \n",
       "2525                7.50                10.9                 5   \n",
       "2592                5.85                 6.4                 6   \n",
       "...                  ...                 ...               ...   \n",
       "394                 9.45                 8.9                 6   \n",
       "683                 7.91                11.0                 2   \n",
       "2688                9.02                11.7                 4   \n",
       "2687               12.11                13.9                 3   \n",
       "531                 8.31                15.2                 6   \n",
       "\n",
       "      total intl charge  customer service calls  \n",
       "93                 2.94                       1  \n",
       "419                2.78                       1  \n",
       "2907               2.32                       0  \n",
       "2525               2.94                       6  \n",
       "2592               1.73                       1  \n",
       "...                 ...                     ...  \n",
       "394                2.40                       1  \n",
       "683                2.97                       3  \n",
       "2688               3.16                       1  \n",
       "2687               3.75                       2  \n",
       "531                4.10                       2  \n",
       "\n",
       "[2249 rows x 15 columns]"
      ]
     },
     "execution_count": 9,
     "metadata": {},
     "output_type": "execute_result"
    }
   ],
   "source": [
    "# numeric columns + drop phone #\n",
    "X_tr_num = X_train.drop(['state', 'area code', 'phone number', 'international plan', 'voice mail plan'], axis=1)\n",
    "X_tr_num"
   ]
  },
  {
   "cell_type": "code",
   "execution_count": 10,
   "metadata": {},
   "outputs": [],
   "source": [
    "# doing the same for X test\n",
    "X_te_num = X_test.drop(['state', 'area code', 'phone number', 'international plan', 'voice mail plan'], axis=1)"
   ]
  },
  {
   "cell_type": "markdown",
   "metadata": {},
   "source": [
    "# Logistic Reg"
   ]
  },
  {
   "cell_type": "code",
   "execution_count": 36,
   "metadata": {},
   "outputs": [],
   "source": [
    "from imblearn.pipeline import Pipeline\n",
    "from imblearn.over_sampling import SMOTE\n",
    "from sklearn.linear_model import LogisticRegression\n",
    "from sklearn.neighbors import KNeighborsClassifier\n",
    "\n",
    "# without smote much better\n",
    "\n",
    "steps = [('std_scaler', StandardScaler()), ('smote', SMOTE()), ('lg', LogisticRegression())]\n",
    "model_pipe = Pipeline(steps)"
   ]
  },
  {
   "cell_type": "code",
   "execution_count": 37,
   "metadata": {},
   "outputs": [
    {
     "data": {
      "text/html": [
       "<style>div.sk-top-container {color: black;background-color: white;}div.sk-toggleable {background-color: white;}label.sk-toggleable__label {cursor: pointer;display: block;width: 100%;margin-bottom: 0;padding: 0.2em 0.3em;box-sizing: border-box;text-align: center;}div.sk-toggleable__content {max-height: 0;max-width: 0;overflow: hidden;text-align: left;background-color: #f0f8ff;}div.sk-toggleable__content pre {margin: 0.2em;color: black;border-radius: 0.25em;background-color: #f0f8ff;}input.sk-toggleable__control:checked~div.sk-toggleable__content {max-height: 200px;max-width: 100%;overflow: auto;}div.sk-estimator input.sk-toggleable__control:checked~label.sk-toggleable__label {background-color: #d4ebff;}div.sk-label input.sk-toggleable__control:checked~label.sk-toggleable__label {background-color: #d4ebff;}input.sk-hidden--visually {border: 0;clip: rect(1px 1px 1px 1px);clip: rect(1px, 1px, 1px, 1px);height: 1px;margin: -1px;overflow: hidden;padding: 0;position: absolute;width: 1px;}div.sk-estimator {font-family: monospace;background-color: #f0f8ff;margin: 0.25em 0.25em;border: 1px dotted black;border-radius: 0.25em;box-sizing: border-box;}div.sk-estimator:hover {background-color: #d4ebff;}div.sk-parallel-item::after {content: \"\";width: 100%;border-bottom: 1px solid gray;flex-grow: 1;}div.sk-label:hover label.sk-toggleable__label {background-color: #d4ebff;}div.sk-serial::before {content: \"\";position: absolute;border-left: 1px solid gray;box-sizing: border-box;top: 2em;bottom: 0;left: 50%;}div.sk-serial {display: flex;flex-direction: column;align-items: center;background-color: white;}div.sk-item {z-index: 1;}div.sk-parallel {display: flex;align-items: stretch;justify-content: center;background-color: white;}div.sk-parallel-item {display: flex;flex-direction: column;position: relative;background-color: white;}div.sk-parallel-item:first-child::after {align-self: flex-end;width: 50%;}div.sk-parallel-item:last-child::after {align-self: flex-start;width: 50%;}div.sk-parallel-item:only-child::after {width: 0;}div.sk-dashed-wrapped {border: 1px dashed gray;margin: 0.2em;box-sizing: border-box;padding-bottom: 0.1em;background-color: white;position: relative;}div.sk-label label {font-family: monospace;font-weight: bold;background-color: white;display: inline-block;line-height: 1.2em;}div.sk-label-container {position: relative;z-index: 2;text-align: center;}div.sk-container {display: inline-block;position: relative;}</style><div class=\"sk-top-container\"><div class=\"sk-container\"><div class=\"sk-item sk-dashed-wrapped\"><div class=\"sk-label-container\"><div class=\"sk-label sk-toggleable\"><input class=\"sk-toggleable__control sk-hidden--visually\" id=\"60b440fe-0a91-4b61-93f8-7145e5b4ecd5\" type=\"checkbox\" ><label class=\"sk-toggleable__label\" for=\"60b440fe-0a91-4b61-93f8-7145e5b4ecd5\">Pipeline</label><div class=\"sk-toggleable__content\"><pre>Pipeline(steps=[('std_scaler', StandardScaler()), ('smote', SMOTE()),\n",
       "                ('lg', LogisticRegression())])</pre></div></div></div><div class=\"sk-serial\"><div class=\"sk-item\"><div class=\"sk-estimator sk-toggleable\"><input class=\"sk-toggleable__control sk-hidden--visually\" id=\"cbe94a1d-2764-476f-a022-f274df586fed\" type=\"checkbox\" ><label class=\"sk-toggleable__label\" for=\"cbe94a1d-2764-476f-a022-f274df586fed\">StandardScaler</label><div class=\"sk-toggleable__content\"><pre>StandardScaler()</pre></div></div></div><div class=\"sk-item\"><div class=\"sk-estimator sk-toggleable\"><input class=\"sk-toggleable__control sk-hidden--visually\" id=\"29bb7afc-7d6b-495e-9b56-1a50334d2f2d\" type=\"checkbox\" ><label class=\"sk-toggleable__label\" for=\"29bb7afc-7d6b-495e-9b56-1a50334d2f2d\">SMOTE</label><div class=\"sk-toggleable__content\"><pre>SMOTE()</pre></div></div></div><div class=\"sk-item\"><div class=\"sk-estimator sk-toggleable\"><input class=\"sk-toggleable__control sk-hidden--visually\" id=\"bf61a490-897a-47fc-b18f-7fac66b95ddf\" type=\"checkbox\" ><label class=\"sk-toggleable__label\" for=\"bf61a490-897a-47fc-b18f-7fac66b95ddf\">LogisticRegression</label><div class=\"sk-toggleable__content\"><pre>LogisticRegression()</pre></div></div></div></div></div></div></div>"
      ],
      "text/plain": [
       "Pipeline(steps=[('std_scaler', StandardScaler()), ('smote', SMOTE()),\n",
       "                ('lg', LogisticRegression())])"
      ]
     },
     "execution_count": 37,
     "metadata": {},
     "output_type": "execute_result"
    }
   ],
   "source": [
    "model_pipe"
   ]
  },
  {
   "cell_type": "code",
   "execution_count": 38,
   "metadata": {},
   "outputs": [],
   "source": [
    "model_pipe.fit(X_tr_num, y_train);"
   ]
  },
  {
   "cell_type": "code",
   "execution_count": 39,
   "metadata": {},
   "outputs": [
    {
     "data": {
      "text/plain": [
       "<sklearn.metrics._plot.confusion_matrix.ConfusionMatrixDisplay at 0x7fbbeafce190>"
      ]
     },
     "execution_count": 39,
     "metadata": {},
     "output_type": "execute_result"
    },
    {
     "data": {
      "image/png": "[encoded data removed]",
      "text/plain": [
       "<Figure size 432x288 with 2 Axes>"
      ]
     },
     "metadata": {
      "needs_background": "light"
     },
     "output_type": "display_data"
    }
   ],
   "source": [
    "plot_confusion_matrix(model_pipe,X_tr_num,y_train)"
   ]
  },
  {
   "cell_type": "code",
   "execution_count": 40,
   "metadata": {},
   "outputs": [
    {
     "name": "stdout",
     "output_type": "stream",
     "text": [
      "0.7207647843485994\n"
     ]
    }
   ],
   "source": [
    "print(model_pipe.score(X_tr_num, y_train))"
   ]
  },
  {
   "cell_type": "code",
   "execution_count": 41,
   "metadata": {},
   "outputs": [
    {
     "name": "stdout",
     "output_type": "stream",
     "text": [
      "0.708\n"
     ]
    }
   ],
   "source": [
    "print(model_pipe.score(X_te_num, y_test))"
   ]
  },
  {
   "cell_type": "markdown",
   "metadata": {},
   "source": [
    "# Random Forest best model"
   ]
  },
  {
   "cell_type": "code",
   "execution_count": 17,
   "metadata": {},
   "outputs": [
    {
     "data": {
      "text/html": [
       "<style>div.sk-top-container {color: black;background-color: white;}div.sk-toggleable {background-color: white;}label.sk-toggleable__label {cursor: pointer;display: block;width: 100%;margin-bottom: 0;padding: 0.2em 0.3em;box-sizing: border-box;text-align: center;}div.sk-toggleable__content {max-height: 0;max-width: 0;overflow: hidden;text-align: left;background-color: #f0f8ff;}div.sk-toggleable__content pre {margin: 0.2em;color: black;border-radius: 0.25em;background-color: #f0f8ff;}input.sk-toggleable__control:checked~div.sk-toggleable__content {max-height: 200px;max-width: 100%;overflow: auto;}div.sk-estimator input.sk-toggleable__control:checked~label.sk-toggleable__label {background-color: #d4ebff;}div.sk-label input.sk-toggleable__control:checked~label.sk-toggleable__label {background-color: #d4ebff;}input.sk-hidden--visually {border: 0;clip: rect(1px 1px 1px 1px);clip: rect(1px, 1px, 1px, 1px);height: 1px;margin: -1px;overflow: hidden;padding: 0;position: absolute;width: 1px;}div.sk-estimator {font-family: monospace;background-color: #f0f8ff;margin: 0.25em 0.25em;border: 1px dotted black;border-radius: 0.25em;box-sizing: border-box;}div.sk-estimator:hover {background-color: #d4ebff;}div.sk-parallel-item::after {content: \"\";width: 100%;border-bottom: 1px solid gray;flex-grow: 1;}div.sk-label:hover label.sk-toggleable__label {background-color: #d4ebff;}div.sk-serial::before {content: \"\";position: absolute;border-left: 1px solid gray;box-sizing: border-box;top: 2em;bottom: 0;left: 50%;}div.sk-serial {display: flex;flex-direction: column;align-items: center;background-color: white;}div.sk-item {z-index: 1;}div.sk-parallel {display: flex;align-items: stretch;justify-content: center;background-color: white;}div.sk-parallel-item {display: flex;flex-direction: column;position: relative;background-color: white;}div.sk-parallel-item:first-child::after {align-self: flex-end;width: 50%;}div.sk-parallel-item:last-child::after {align-self: flex-start;width: 50%;}div.sk-parallel-item:only-child::after {width: 0;}div.sk-dashed-wrapped {border: 1px dashed gray;margin: 0.2em;box-sizing: border-box;padding-bottom: 0.1em;background-color: white;position: relative;}div.sk-label label {font-family: monospace;font-weight: bold;background-color: white;display: inline-block;line-height: 1.2em;}div.sk-label-container {position: relative;z-index: 2;text-align: center;}div.sk-container {display: inline-block;position: relative;}</style><div class=\"sk-top-container\"><div class=\"sk-container\"><div class=\"sk-item sk-dashed-wrapped\"><div class=\"sk-label-container\"><div class=\"sk-label sk-toggleable\"><input class=\"sk-toggleable__control sk-hidden--visually\" id=\"a26cbf6b-d2e5-4c21-b0b6-f12b8e99d2b0\" type=\"checkbox\" ><label class=\"sk-toggleable__label\" for=\"a26cbf6b-d2e5-4c21-b0b6-f12b8e99d2b0\">Pipeline</label><div class=\"sk-toggleable__content\"><pre>Pipeline(steps=[('std_scaler', StandardScaler()),\n",
       "                ('rf_clf', RandomForestClassifier(random_state=42))])</pre></div></div></div><div class=\"sk-serial\"><div class=\"sk-item\"><div class=\"sk-estimator sk-toggleable\"><input class=\"sk-toggleable__control sk-hidden--visually\" id=\"f3f9a8bf-316b-4396-b611-82e2c09dc1d1\" type=\"checkbox\" ><label class=\"sk-toggleable__label\" for=\"f3f9a8bf-316b-4396-b611-82e2c09dc1d1\">StandardScaler</label><div class=\"sk-toggleable__content\"><pre>StandardScaler()</pre></div></div></div><div class=\"sk-item\"><div class=\"sk-estimator sk-toggleable\"><input class=\"sk-toggleable__control sk-hidden--visually\" id=\"14e4cd13-6963-4292-a03d-0905769618f7\" type=\"checkbox\" ><label class=\"sk-toggleable__label\" for=\"14e4cd13-6963-4292-a03d-0905769618f7\">RandomForestClassifier</label><div class=\"sk-toggleable__content\"><pre>RandomForestClassifier(random_state=42)</pre></div></div></div></div></div></div></div>"
      ],
      "text/plain": [
       "Pipeline(steps=[('std_scaler', StandardScaler()),\n",
       "                ('rf_clf', RandomForestClassifier(random_state=42))])"
      ]
     },
     "execution_count": 17,
     "metadata": {},
     "output_type": "execute_result"
    }
   ],
   "source": [
    "from imblearn.pipeline import Pipeline\n",
    "from imblearn.over_sampling import SMOTE\n",
    "from sklearn.ensemble import RandomForestClassifier\n",
    "\n",
    "# without smote better here\n",
    "\n",
    "steps = [('std_scaler', StandardScaler()),\n",
    "        ('rf_clf', RandomForestClassifier(random_state=42))]\n",
    "\n",
    "pipeline = Pipeline(steps)\n",
    "\n",
    "\n",
    "pipeline"
   ]
  },
  {
   "cell_type": "code",
   "execution_count": 18,
   "metadata": {},
   "outputs": [],
   "source": [
    "pipe_grid = {\n",
    "    'rf_clf__n_estimators': [25, 50, 100, 150],\n",
    "    'rf_clf__max_features': ['sqrt', 'log2', None],\n",
    "    'rf_clf__max_depth': [3, 6, 9, None],\n",
    "    'rf_clf__max_leaf_nodes': [3, 6, 9]}\n",
    "\n",
    "gs_pipe = GridSearchCV(estimator = pipeline,\n",
    "                      param_grid = pipe_grid)"
   ]
  },
  {
   "cell_type": "code",
   "execution_count": 19,
   "metadata": {},
   "outputs": [
    {
     "data": {
      "text/html": [
       "<style>div.sk-top-container {color: black;background-color: white;}div.sk-toggleable {background-color: white;}label.sk-toggleable__label {cursor: pointer;display: block;width: 100%;margin-bottom: 0;padding: 0.2em 0.3em;box-sizing: border-box;text-align: center;}div.sk-toggleable__content {max-height: 0;max-width: 0;overflow: hidden;text-align: left;background-color: #f0f8ff;}div.sk-toggleable__content pre {margin: 0.2em;color: black;border-radius: 0.25em;background-color: #f0f8ff;}input.sk-toggleable__control:checked~div.sk-toggleable__content {max-height: 200px;max-width: 100%;overflow: auto;}div.sk-estimator input.sk-toggleable__control:checked~label.sk-toggleable__label {background-color: #d4ebff;}div.sk-label input.sk-toggleable__control:checked~label.sk-toggleable__label {background-color: #d4ebff;}input.sk-hidden--visually {border: 0;clip: rect(1px 1px 1px 1px);clip: rect(1px, 1px, 1px, 1px);height: 1px;margin: -1px;overflow: hidden;padding: 0;position: absolute;width: 1px;}div.sk-estimator {font-family: monospace;background-color: #f0f8ff;margin: 0.25em 0.25em;border: 1px dotted black;border-radius: 0.25em;box-sizing: border-box;}div.sk-estimator:hover {background-color: #d4ebff;}div.sk-parallel-item::after {content: \"\";width: 100%;border-bottom: 1px solid gray;flex-grow: 1;}div.sk-label:hover label.sk-toggleable__label {background-color: #d4ebff;}div.sk-serial::before {content: \"\";position: absolute;border-left: 1px solid gray;box-sizing: border-box;top: 2em;bottom: 0;left: 50%;}div.sk-serial {display: flex;flex-direction: column;align-items: center;background-color: white;}div.sk-item {z-index: 1;}div.sk-parallel {display: flex;align-items: stretch;justify-content: center;background-color: white;}div.sk-parallel-item {display: flex;flex-direction: column;position: relative;background-color: white;}div.sk-parallel-item:first-child::after {align-self: flex-end;width: 50%;}div.sk-parallel-item:last-child::after {align-self: flex-start;width: 50%;}div.sk-parallel-item:only-child::after {width: 0;}div.sk-dashed-wrapped {border: 1px dashed gray;margin: 0.2em;box-sizing: border-box;padding-bottom: 0.1em;background-color: white;position: relative;}div.sk-label label {font-family: monospace;font-weight: bold;background-color: white;display: inline-block;line-height: 1.2em;}div.sk-label-container {position: relative;z-index: 2;text-align: center;}div.sk-container {display: inline-block;position: relative;}</style><div class=\"sk-top-container\"><div class=\"sk-container\"><div class=\"sk-item sk-dashed-wrapped\"><div class=\"sk-label-container\"><div class=\"sk-label sk-toggleable\"><input class=\"sk-toggleable__control sk-hidden--visually\" id=\"d6326be3-3423-4101-98b5-fceb5f2c44e6\" type=\"checkbox\" ><label class=\"sk-toggleable__label\" for=\"d6326be3-3423-4101-98b5-fceb5f2c44e6\">GridSearchCV</label><div class=\"sk-toggleable__content\"><pre>GridSearchCV(estimator=Pipeline(steps=[('std_scaler', StandardScaler()),\n",
       "                                       ('rf_clf',\n",
       "                                        RandomForestClassifier(random_state=42))]),\n",
       "             param_grid={'rf_clf__max_depth': [3, 6, 9, None],\n",
       "                         'rf_clf__max_features': ['sqrt', 'log2', None],\n",
       "                         'rf_clf__max_leaf_nodes': [3, 6, 9],\n",
       "                         'rf_clf__n_estimators': [25, 50, 100, 150]})</pre></div></div></div><div class=\"sk-parallel\"><div class=\"sk-parallel-item\"><div class=\"sk-item\"><div class=\"sk-serial\"><div class=\"sk-item\"><div class=\"sk-serial\"><div class=\"sk-item\"><div class=\"sk-estimator sk-toggleable\"><input class=\"sk-toggleable__control sk-hidden--visually\" id=\"44383874-3cb2-4730-ae7f-c16165a2fd6b\" type=\"checkbox\" ><label class=\"sk-toggleable__label\" for=\"44383874-3cb2-4730-ae7f-c16165a2fd6b\">StandardScaler</label><div class=\"sk-toggleable__content\"><pre>StandardScaler()</pre></div></div></div><div class=\"sk-item\"><div class=\"sk-estimator sk-toggleable\"><input class=\"sk-toggleable__control sk-hidden--visually\" id=\"7c9d6949-dbd5-420b-84ab-e561cf24b2b6\" type=\"checkbox\" ><label class=\"sk-toggleable__label\" for=\"7c9d6949-dbd5-420b-84ab-e561cf24b2b6\">RandomForestClassifier</label><div class=\"sk-toggleable__content\"><pre>RandomForestClassifier(random_state=42)</pre></div></div></div></div></div></div></div></div></div></div></div></div>"
      ],
      "text/plain": [
       "GridSearchCV(estimator=Pipeline(steps=[('std_scaler', StandardScaler()),\n",
       "                                       ('rf_clf',\n",
       "                                        RandomForestClassifier(random_state=42))]),\n",
       "             param_grid={'rf_clf__max_depth': [3, 6, 9, None],\n",
       "                         'rf_clf__max_features': ['sqrt', 'log2', None],\n",
       "                         'rf_clf__max_leaf_nodes': [3, 6, 9],\n",
       "                         'rf_clf__n_estimators': [25, 50, 100, 150]})"
      ]
     },
     "execution_count": 19,
     "metadata": {},
     "output_type": "execute_result"
    }
   ],
   "source": [
    "gs_pipe.fit(X_tr_num, y_train)"
   ]
  },
  {
   "cell_type": "code",
   "execution_count": 20,
   "metadata": {},
   "outputs": [
    {
     "data": {
      "text/plain": [
       "0.9123999010146002"
      ]
     },
     "execution_count": 20,
     "metadata": {},
     "output_type": "execute_result"
    }
   ],
   "source": [
    "gs_pipe.best_score_"
   ]
  },
  {
   "cell_type": "code",
   "execution_count": 21,
   "metadata": {},
   "outputs": [
    {
     "data": {
      "text/html": [
       "<style>div.sk-top-container {color: black;background-color: white;}div.sk-toggleable {background-color: white;}label.sk-toggleable__label {cursor: pointer;display: block;width: 100%;margin-bottom: 0;padding: 0.2em 0.3em;box-sizing: border-box;text-align: center;}div.sk-toggleable__content {max-height: 0;max-width: 0;overflow: hidden;text-align: left;background-color: #f0f8ff;}div.sk-toggleable__content pre {margin: 0.2em;color: black;border-radius: 0.25em;background-color: #f0f8ff;}input.sk-toggleable__control:checked~div.sk-toggleable__content {max-height: 200px;max-width: 100%;overflow: auto;}div.sk-estimator input.sk-toggleable__control:checked~label.sk-toggleable__label {background-color: #d4ebff;}div.sk-label input.sk-toggleable__control:checked~label.sk-toggleable__label {background-color: #d4ebff;}input.sk-hidden--visually {border: 0;clip: rect(1px 1px 1px 1px);clip: rect(1px, 1px, 1px, 1px);height: 1px;margin: -1px;overflow: hidden;padding: 0;position: absolute;width: 1px;}div.sk-estimator {font-family: monospace;background-color: #f0f8ff;margin: 0.25em 0.25em;border: 1px dotted black;border-radius: 0.25em;box-sizing: border-box;}div.sk-estimator:hover {background-color: #d4ebff;}div.sk-parallel-item::after {content: \"\";width: 100%;border-bottom: 1px solid gray;flex-grow: 1;}div.sk-label:hover label.sk-toggleable__label {background-color: #d4ebff;}div.sk-serial::before {content: \"\";position: absolute;border-left: 1px solid gray;box-sizing: border-box;top: 2em;bottom: 0;left: 50%;}div.sk-serial {display: flex;flex-direction: column;align-items: center;background-color: white;}div.sk-item {z-index: 1;}div.sk-parallel {display: flex;align-items: stretch;justify-content: center;background-color: white;}div.sk-parallel-item {display: flex;flex-direction: column;position: relative;background-color: white;}div.sk-parallel-item:first-child::after {align-self: flex-end;width: 50%;}div.sk-parallel-item:last-child::after {align-self: flex-start;width: 50%;}div.sk-parallel-item:only-child::after {width: 0;}div.sk-dashed-wrapped {border: 1px dashed gray;margin: 0.2em;box-sizing: border-box;padding-bottom: 0.1em;background-color: white;position: relative;}div.sk-label label {font-family: monospace;font-weight: bold;background-color: white;display: inline-block;line-height: 1.2em;}div.sk-label-container {position: relative;z-index: 2;text-align: center;}div.sk-container {display: inline-block;position: relative;}</style><div class=\"sk-top-container\"><div class=\"sk-container\"><div class=\"sk-item sk-dashed-wrapped\"><div class=\"sk-label-container\"><div class=\"sk-label sk-toggleable\"><input class=\"sk-toggleable__control sk-hidden--visually\" id=\"f8c2268b-0003-4e12-b836-05f27ca419c5\" type=\"checkbox\" ><label class=\"sk-toggleable__label\" for=\"f8c2268b-0003-4e12-b836-05f27ca419c5\">Pipeline</label><div class=\"sk-toggleable__content\"><pre>Pipeline(steps=[('std_scaler', StandardScaler()),\n",
       "                ('rf_clf',\n",
       "                 RandomForestClassifier(max_depth=6, max_features=None,\n",
       "                                        max_leaf_nodes=9, n_estimators=150,\n",
       "                                        random_state=42))])</pre></div></div></div><div class=\"sk-serial\"><div class=\"sk-item\"><div class=\"sk-estimator sk-toggleable\"><input class=\"sk-toggleable__control sk-hidden--visually\" id=\"e932fb2f-053f-4ec7-ac43-183ae8c780bd\" type=\"checkbox\" ><label class=\"sk-toggleable__label\" for=\"e932fb2f-053f-4ec7-ac43-183ae8c780bd\">StandardScaler</label><div class=\"sk-toggleable__content\"><pre>StandardScaler()</pre></div></div></div><div class=\"sk-item\"><div class=\"sk-estimator sk-toggleable\"><input class=\"sk-toggleable__control sk-hidden--visually\" id=\"bcab91d8-3012-451c-9b19-61e1a87e68c7\" type=\"checkbox\" ><label class=\"sk-toggleable__label\" for=\"bcab91d8-3012-451c-9b19-61e1a87e68c7\">RandomForestClassifier</label><div class=\"sk-toggleable__content\"><pre>RandomForestClassifier(max_depth=6, max_features=None, max_leaf_nodes=9,\n",
       "                       n_estimators=150, random_state=42)</pre></div></div></div></div></div></div></div>"
      ],
      "text/plain": [
       "Pipeline(steps=[('std_scaler', StandardScaler()),\n",
       "                ('rf_clf',\n",
       "                 RandomForestClassifier(max_depth=6, max_features=None,\n",
       "                                        max_leaf_nodes=9, n_estimators=150,\n",
       "                                        random_state=42))])"
      ]
     },
     "execution_count": 21,
     "metadata": {},
     "output_type": "execute_result"
    }
   ],
   "source": [
    "# takes best estimators and puts in the variable called\n",
    "best_model = gs_pipe.best_estimator_\n",
    "best_model"
   ]
  },
  {
   "cell_type": "code",
   "execution_count": 22,
   "metadata": {},
   "outputs": [],
   "source": [
    "y_pred = best_model.predict(X_te_num)"
   ]
  },
  {
   "cell_type": "markdown",
   "metadata": {},
   "source": [
    "# Comparison"
   ]
  },
  {
   "cell_type": "code",
   "execution_count": 47,
   "metadata": {},
   "outputs": [
    {
     "data": {
      "text/plain": [
       "'Pipeline'"
      ]
     },
     "execution_count": 47,
     "metadata": {},
     "output_type": "execute_result"
    }
   ],
   "source": [
    "best_model.__class__.__name__"
   ]
  },
  {
   "cell_type": "code",
   "execution_count": 48,
   "metadata": {},
   "outputs": [
    {
     "name": "stdout",
     "output_type": "stream",
     "text": [
      "Pipeline(steps=[('std_scaler', StandardScaler()), ('smote', SMOTE()),\n",
      "                ('lg', LogisticRegression())])\n",
      "Pipeline(steps=[('std_scaler', StandardScaler()),\n",
      "                ('rf_clf',\n",
      "                 RandomForestClassifier(max_depth=6, max_features=None,\n",
      "                                        max_leaf_nodes=9, n_estimators=150,\n",
      "                                        random_state=42))])\n"
     ]
    }
   ],
   "source": [
    "# since both are pipeline, we will look at the 1st element to see if it is Logisitic reg or random forest\n",
    "for i,x in enumerate(models):\n",
    "    print(x)"
   ]
  },
  {
   "cell_type": "code",
   "execution_count": null,
   "metadata": {},
   "outputs": [],
   "source": []
  },
  {
   "cell_type": "code",
   "execution_count": 46,
   "metadata": {},
   "outputs": [
    {
     "data": {
      "image/png": "[encoded data removed]",
      "text/plain": [
       "<Figure size 432x288 with 1 Axes>"
      ]
     },
     "metadata": {
      "needs_background": "light"
     },
     "output_type": "display_data"
    }
   ],
   "source": [
    "from sklearn.metrics import accuracy_score\n",
    "\n",
    "models = [model_pipe, best_model]\n",
    "\n",
    "results = pd.DataFrame(columns=[\"Models\", \"Accuracy\"])\n",
    "\n",
    "for i,model in enumerate(models):\n",
    "  \n",
    "    if i == 1:\n",
    "        names = \"Random Forest\"\n",
    "    else:\n",
    "        names = 'Logistic Regression'\n",
    "    y_pred = model.predict(X_te_num)\n",
    "    accuracy = accuracy_score(y_test, y_pred) * 100\n",
    "    result = pd.DataFrame([[names, accuracy]], columns=[\"Models\", \"Accuracy\"])\n",
    "    results = results.append(result, ignore_index=True)\n",
    "\n",
    "sns.barplot(x='Accuracy', y='Models', data=results, palette=\"coolwarm\")\n",
    "plt.xlabel('Accuracy %')\n",
    "\n",
    "plt.title('Accuracy of the models')\n",
    "\n",
    "plt.show()"
   ]
  },
  {
   "cell_type": "code",
   "execution_count": null,
   "metadata": {},
   "outputs": [],
   "source": []
  }
 ],
 "metadata": {
  "kernelspec": {
   "display_name": "Python (learn-env)",
   "language": "python",
   "name": "learn-env"
  },
  "language_info": {
   "codemirror_mode": {
    "name": "ipython",
    "version": 3
   },
   "file_extension": ".py",
   "mimetype": "text/x-python",
   "name": "python",
   "nbconvert_exporter": "python",
   "pygments_lexer": "ipython3",
   "version": "3.8.5"
  }
 },
 "nbformat": 4,
 "nbformat_minor": 4
}
