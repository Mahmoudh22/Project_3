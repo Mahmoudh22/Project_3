{
 "cells": [
  {
   "cell_type": "markdown",
   "metadata": {},
   "source": [
    "# Question 1: Are there certain areas or states where it is more likely to have a customer churn?"
   ]
  },
  {
   "cell_type": "code",
   "execution_count": 5,
   "metadata": {},
   "outputs": [],
   "source": [
    "import pandas as pd\n",
    "import numpy as np\n",
    "import matplotlib.pyplot as plt\n",
    "import seaborn as sns\n",
    "from sklearn.model_selection import train_test_split"
   ]
  },
  {
   "cell_type": "code",
   "execution_count": 7,
   "metadata": {},
   "outputs": [
    {
     "data": {
      "text/html": [
       "<div>\n",
       "<style scoped>\n",
       "    .dataframe tbody tr th:only-of-type {\n",
       "        vertical-align: middle;\n",
       "    }\n",
       "\n",
       "    .dataframe tbody tr th {\n",
       "        vertical-align: top;\n",
       "    }\n",
       "\n",
       "    .dataframe thead th {\n",
       "        text-align: right;\n",
       "    }\n",
       "</style>\n",
       "<table border=\"1\" class=\"dataframe\">\n",
       "  <thead>\n",
       "    <tr style=\"text-align: right;\">\n",
       "      <th></th>\n",
       "      <th>Unnamed: 0</th>\n",
       "      <th>state</th>\n",
       "      <th>account length</th>\n",
       "      <th>area code</th>\n",
       "      <th>phone number</th>\n",
       "      <th>international plan</th>\n",
       "      <th>voice mail plan</th>\n",
       "      <th>number vmail messages</th>\n",
       "      <th>total day minutes</th>\n",
       "      <th>total day calls</th>\n",
       "      <th>...</th>\n",
       "      <th>total eve calls</th>\n",
       "      <th>total eve charge</th>\n",
       "      <th>total night minutes</th>\n",
       "      <th>total night calls</th>\n",
       "      <th>total night charge</th>\n",
       "      <th>total intl minutes</th>\n",
       "      <th>total intl calls</th>\n",
       "      <th>total intl charge</th>\n",
       "      <th>customer service calls</th>\n",
       "      <th>churn</th>\n",
       "    </tr>\n",
       "  </thead>\n",
       "  <tbody>\n",
       "    <tr>\n",
       "      <th>0</th>\n",
       "      <td>2682</td>\n",
       "      <td>DC</td>\n",
       "      <td>55</td>\n",
       "      <td>510</td>\n",
       "      <td>354-5058</td>\n",
       "      <td>yes</td>\n",
       "      <td>no</td>\n",
       "      <td>0</td>\n",
       "      <td>106.1</td>\n",
       "      <td>77</td>\n",
       "      <td>...</td>\n",
       "      <td>100</td>\n",
       "      <td>10.50</td>\n",
       "      <td>96.4</td>\n",
       "      <td>92</td>\n",
       "      <td>4.34</td>\n",
       "      <td>12.9</td>\n",
       "      <td>3</td>\n",
       "      <td>3.48</td>\n",
       "      <td>0</td>\n",
       "      <td>False</td>\n",
       "    </tr>\n",
       "    <tr>\n",
       "      <th>1</th>\n",
       "      <td>3304</td>\n",
       "      <td>IL</td>\n",
       "      <td>71</td>\n",
       "      <td>510</td>\n",
       "      <td>330-7137</td>\n",
       "      <td>yes</td>\n",
       "      <td>no</td>\n",
       "      <td>0</td>\n",
       "      <td>186.1</td>\n",
       "      <td>114</td>\n",
       "      <td>...</td>\n",
       "      <td>140</td>\n",
       "      <td>16.88</td>\n",
       "      <td>206.5</td>\n",
       "      <td>80</td>\n",
       "      <td>9.29</td>\n",
       "      <td>13.8</td>\n",
       "      <td>5</td>\n",
       "      <td>3.73</td>\n",
       "      <td>4</td>\n",
       "      <td>True</td>\n",
       "    </tr>\n",
       "    <tr>\n",
       "      <th>2</th>\n",
       "      <td>757</td>\n",
       "      <td>UT</td>\n",
       "      <td>112</td>\n",
       "      <td>415</td>\n",
       "      <td>358-5953</td>\n",
       "      <td>no</td>\n",
       "      <td>no</td>\n",
       "      <td>0</td>\n",
       "      <td>115.8</td>\n",
       "      <td>108</td>\n",
       "      <td>...</td>\n",
       "      <td>111</td>\n",
       "      <td>20.68</td>\n",
       "      <td>184.6</td>\n",
       "      <td>78</td>\n",
       "      <td>8.31</td>\n",
       "      <td>13.1</td>\n",
       "      <td>5</td>\n",
       "      <td>3.54</td>\n",
       "      <td>1</td>\n",
       "      <td>False</td>\n",
       "    </tr>\n",
       "    <tr>\n",
       "      <th>3</th>\n",
       "      <td>2402</td>\n",
       "      <td>NY</td>\n",
       "      <td>77</td>\n",
       "      <td>415</td>\n",
       "      <td>388-9285</td>\n",
       "      <td>no</td>\n",
       "      <td>yes</td>\n",
       "      <td>33</td>\n",
       "      <td>143.0</td>\n",
       "      <td>101</td>\n",
       "      <td>...</td>\n",
       "      <td>102</td>\n",
       "      <td>18.04</td>\n",
       "      <td>104.9</td>\n",
       "      <td>120</td>\n",
       "      <td>4.72</td>\n",
       "      <td>15.3</td>\n",
       "      <td>4</td>\n",
       "      <td>4.13</td>\n",
       "      <td>5</td>\n",
       "      <td>True</td>\n",
       "    </tr>\n",
       "    <tr>\n",
       "      <th>4</th>\n",
       "      <td>792</td>\n",
       "      <td>NV</td>\n",
       "      <td>69</td>\n",
       "      <td>510</td>\n",
       "      <td>397-6789</td>\n",
       "      <td>yes</td>\n",
       "      <td>yes</td>\n",
       "      <td>33</td>\n",
       "      <td>271.5</td>\n",
       "      <td>98</td>\n",
       "      <td>...</td>\n",
       "      <td>102</td>\n",
       "      <td>21.54</td>\n",
       "      <td>165.4</td>\n",
       "      <td>85</td>\n",
       "      <td>7.44</td>\n",
       "      <td>8.2</td>\n",
       "      <td>2</td>\n",
       "      <td>2.21</td>\n",
       "      <td>1</td>\n",
       "      <td>True</td>\n",
       "    </tr>\n",
       "  </tbody>\n",
       "</table>\n",
       "<p>5 rows × 22 columns</p>\n",
       "</div>"
      ],
      "text/plain": [
       "   Unnamed: 0 state  account length  area code phone number  \\\n",
       "0        2682    DC              55        510     354-5058   \n",
       "1        3304    IL              71        510     330-7137   \n",
       "2         757    UT             112        415     358-5953   \n",
       "3        2402    NY              77        415     388-9285   \n",
       "4         792    NV              69        510     397-6789   \n",
       "\n",
       "  international plan voice mail plan  number vmail messages  \\\n",
       "0                yes              no                      0   \n",
       "1                yes              no                      0   \n",
       "2                 no              no                      0   \n",
       "3                 no             yes                     33   \n",
       "4                yes             yes                     33   \n",
       "\n",
       "   total day minutes  total day calls  ...  total eve calls  total eve charge  \\\n",
       "0              106.1               77  ...              100             10.50   \n",
       "1              186.1              114  ...              140             16.88   \n",
       "2              115.8              108  ...              111             20.68   \n",
       "3              143.0              101  ...              102             18.04   \n",
       "4              271.5               98  ...              102             21.54   \n",
       "\n",
       "   total night minutes  total night calls  total night charge  \\\n",
       "0                 96.4                 92                4.34   \n",
       "1                206.5                 80                9.29   \n",
       "2                184.6                 78                8.31   \n",
       "3                104.9                120                4.72   \n",
       "4                165.4                 85                7.44   \n",
       "\n",
       "   total intl minutes  total intl calls  total intl charge  \\\n",
       "0                12.9                 3               3.48   \n",
       "1                13.8                 5               3.73   \n",
       "2                13.1                 5               3.54   \n",
       "3                15.3                 4               4.13   \n",
       "4                 8.2                 2               2.21   \n",
       "\n",
       "   customer service calls  churn  \n",
       "0                       0  False  \n",
       "1                       4   True  \n",
       "2                       1  False  \n",
       "3                       5   True  \n",
       "4                       1   True  \n",
       "\n",
       "[5 rows x 22 columns]"
      ]
     },
     "execution_count": 7,
     "metadata": {},
     "output_type": "execute_result"
    }
   ],
   "source": [
    "df = pd.read_csv('/Users/mahmoud/Documents/Project_3/data.csv')\n",
    "\n",
    "df.head()"
   ]
  },
  {
   "cell_type": "code",
   "execution_count": null,
   "metadata": {},
   "outputs": [],
   "source": [
    "t_df = pd.read_csv('/Users/mahmoud/Documents/Project_3_SyriaTel_Customer_Churn/test.csv')\n",
    "\n",
    "t_df.head()"
   ]
  },
  {
   "cell_type": "code",
   "execution_count": null,
   "metadata": {},
   "outputs": [],
   "source": [
    "test_df = t_df.drop(columns=['Unnamed: 0'])"
   ]
  },
  {
   "cell_type": "code",
   "execution_count": null,
   "metadata": {},
   "outputs": [],
   "source": [
    "test_df"
   ]
  },
  {
   "cell_type": "code",
   "execution_count": null,
   "metadata": {},
   "outputs": [],
   "source": [
    "tr_df = pd.read_csv('/Users/mahmoud/Documents/Project_3_SyriaTel_Customer_Churn/test.csv')\n",
    "\n",
    "tr_df.head()"
   ]
  },
  {
   "cell_type": "code",
   "execution_count": null,
   "metadata": {},
   "outputs": [],
   "source": [
    "train_df = tr_df.drop(columns=['Unnamed: 0'])"
   ]
  },
  {
   "cell_type": "code",
   "execution_count": null,
   "metadata": {},
   "outputs": [],
   "source": [
    "train_df"
   ]
  },
  {
   "cell_type": "code",
   "execution_count": null,
   "metadata": {},
   "outputs": [],
   "source": []
  },
  {
   "cell_type": "code",
   "execution_count": null,
   "metadata": {},
   "outputs": [],
   "source": []
  },
  {
   "cell_type": "code",
   "execution_count": 4,
   "metadata": {},
   "outputs": [
    {
     "ename": "NameError",
     "evalue": "name 'train_df' is not defined",
     "output_type": "error",
     "traceback": [
      "\u001b[0;31m---------------------------------------------------------------------------\u001b[0m",
      "\u001b[0;31mNameError\u001b[0m                                 Traceback (most recent call last)",
      "\u001b[0;32m<ipython-input-4-dac501457756>\u001b[0m in \u001b[0;36m<module>\u001b[0;34m\u001b[0m\n\u001b[1;32m      1\u001b[0m \u001b[0;31m# Fiding Unique states\u001b[0m\u001b[0;34m\u001b[0m\u001b[0;34m\u001b[0m\u001b[0;34m\u001b[0m\u001b[0m\n\u001b[0;32m----> 2\u001b[0;31m \u001b[0mdisplay\u001b[0m\u001b[0;34m(\u001b[0m\u001b[0mtrain_df\u001b[0m\u001b[0;34m[\u001b[0m\u001b[0;34m'state'\u001b[0m\u001b[0;34m]\u001b[0m\u001b[0;34m.\u001b[0m\u001b[0munique\u001b[0m\u001b[0;34m(\u001b[0m\u001b[0;34m)\u001b[0m\u001b[0;34m)\u001b[0m\u001b[0;34m\u001b[0m\u001b[0;34m\u001b[0m\u001b[0m\n\u001b[0m\u001b[1;32m      3\u001b[0m \u001b[0mdisplay\u001b[0m\u001b[0;34m(\u001b[0m\u001b[0mtrain_df\u001b[0m\u001b[0;34m[\u001b[0m\u001b[0;34m'area code'\u001b[0m\u001b[0;34m]\u001b[0m\u001b[0;34m.\u001b[0m\u001b[0munique\u001b[0m\u001b[0;34m(\u001b[0m\u001b[0;34m)\u001b[0m\u001b[0;34m)\u001b[0m\u001b[0;34m\u001b[0m\u001b[0;34m\u001b[0m\u001b[0m\n",
      "\u001b[0;31mNameError\u001b[0m: name 'train_df' is not defined"
     ]
    }
   ],
   "source": [
    "# Fiding Unique states \n",
    "display(train_df['state'].unique())\n",
    "display(train_df['area code'].unique())"
   ]
  },
  {
   "cell_type": "code",
   "execution_count": 1,
   "metadata": {},
   "outputs": [
    {
     "ename": "NameError",
     "evalue": "name 'train_df' is not defined",
     "output_type": "error",
     "traceback": [
      "\u001b[0;31m---------------------------------------------------------------------------\u001b[0m",
      "\u001b[0;31mNameError\u001b[0m                                 Traceback (most recent call last)",
      "\u001b[0;32m<ipython-input-1-da251059b364>\u001b[0m in \u001b[0;36m<module>\u001b[0;34m\u001b[0m\n\u001b[0;32m----> 1\u001b[0;31m \u001b[0mchurn_by_state\u001b[0m \u001b[0;34m=\u001b[0m \u001b[0mtrain_df\u001b[0m\u001b[0;34m.\u001b[0m\u001b[0mgroupby\u001b[0m\u001b[0;34m(\u001b[0m\u001b[0;34m'state'\u001b[0m\u001b[0;34m)\u001b[0m\u001b[0;34m[\u001b[0m\u001b[0;34m'churn'\u001b[0m\u001b[0;34m]\u001b[0m\u001b[0;34m.\u001b[0m\u001b[0mvalue_counts\u001b[0m\u001b[0;34m(\u001b[0m\u001b[0mnormalize\u001b[0m\u001b[0;34m=\u001b[0m\u001b[0;32mTrue\u001b[0m\u001b[0;34m)\u001b[0m\u001b[0;34m\u001b[0m\u001b[0;34m\u001b[0m\u001b[0m\n\u001b[0m\u001b[1;32m      2\u001b[0m \u001b[0mchurn_by_state\u001b[0m \u001b[0;34m=\u001b[0m \u001b[0mpd\u001b[0m\u001b[0;34m.\u001b[0m\u001b[0mDataFrame\u001b[0m\u001b[0;34m(\u001b[0m\u001b[0mchurn_by_state\u001b[0m\u001b[0;34m)\u001b[0m\u001b[0;34m\u001b[0m\u001b[0;34m\u001b[0m\u001b[0m\n\u001b[1;32m      3\u001b[0m \u001b[0mchurn_by_state\u001b[0m\u001b[0;34m.\u001b[0m\u001b[0mcolumns\u001b[0m \u001b[0;34m=\u001b[0m \u001b[0;34m[\u001b[0m\u001b[0;34m'value'\u001b[0m\u001b[0;34m]\u001b[0m\u001b[0;34m\u001b[0m\u001b[0;34m\u001b[0m\u001b[0m\n\u001b[1;32m      4\u001b[0m \u001b[0mchurn_by_state\u001b[0m \u001b[0;34m=\u001b[0m \u001b[0mchurn_by_state\u001b[0m\u001b[0;34m.\u001b[0m\u001b[0mreset_index\u001b[0m\u001b[0;34m(\u001b[0m\u001b[0;34m)\u001b[0m\u001b[0;34m\u001b[0m\u001b[0;34m\u001b[0m\u001b[0m\n",
      "\u001b[0;31mNameError\u001b[0m: name 'train_df' is not defined"
     ]
    }
   ],
   "source": [
    "churn_by_state = train_df.groupby('state')['churn'].value_counts(normalize=True)\n",
    "churn_by_state = pd.DataFrame(churn_by_state)\n",
    "churn_by_state.columns = ['value']\n",
    "churn_by_state = churn_by_state.reset_index()"
   ]
  },
  {
   "cell_type": "code",
   "execution_count": null,
   "metadata": {},
   "outputs": [],
   "source": []
  }
 ],
 "metadata": {
  "kernelspec": {
   "display_name": "Python (learn-env)",
   "language": "python",
   "name": "learn-env"
  },
  "language_info": {
   "codemirror_mode": {
    "name": "ipython",
    "version": 3
   },
   "file_extension": ".py",
   "mimetype": "text/x-python",
   "name": "python",
   "nbconvert_exporter": "python",
   "pygments_lexer": "ipython3",
   "version": "3.8.5"
  }
 },
 "nbformat": 4,
 "nbformat_minor": 4
}
