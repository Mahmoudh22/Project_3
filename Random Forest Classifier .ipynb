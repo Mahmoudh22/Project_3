{
 "cells": [
  {
   "cell_type": "markdown",
   "metadata": {},
   "source": [
    "# Random Forest Classifier"
   ]
  },
  {
   "cell_type": "code",
   "execution_count": 62,
   "metadata": {},
   "outputs": [],
   "source": [
    "import numpy as np\n",
    "import pandas as pd\n",
    "from matplotlib import pyplot as plt\n",
    "import seaborn as sns\n",
    "from scipy import stats as stats\n",
    "\n",
    "from sklearn.linear_model import LogisticRegression\n",
    "from sklearn.neighbors import KNeighborsClassifier\n",
    "from sklearn.tree import DecisionTreeClassifier\n",
    "\n",
    "from sklearn.metrics import precision_score, recall_score, plot_confusion_matrix\n",
    "from sklearn.model_selection import train_test_split, GridSearchCV,\\\n",
    "cross_val_score, RandomizedSearchCV\n",
    "\n",
    "from sklearn.preprocessing import OneHotEncoder, StandardScaler, Normalizer\n",
    "from sklearn.impute import SimpleImputer\n",
    "\n",
    "from sklearn.compose import ColumnTransformer\n",
    "\n",
    "from sklearn import set_config\n",
    "set_config(display='diagram')"
   ]
  },
  {
   "cell_type": "code",
   "execution_count": 63,
   "metadata": {},
   "outputs": [
    {
     "data": {
      "text/html": [
       "<div>\n",
       "<style scoped>\n",
       "    .dataframe tbody tr th:only-of-type {\n",
       "        vertical-align: middle;\n",
       "    }\n",
       "\n",
       "    .dataframe tbody tr th {\n",
       "        vertical-align: top;\n",
       "    }\n",
       "\n",
       "    .dataframe thead th {\n",
       "        text-align: right;\n",
       "    }\n",
       "</style>\n",
       "<table border=\"1\" class=\"dataframe\">\n",
       "  <thead>\n",
       "    <tr style=\"text-align: right;\">\n",
       "      <th></th>\n",
       "      <th>Unnamed: 0</th>\n",
       "      <th>state</th>\n",
       "      <th>account length</th>\n",
       "      <th>area code</th>\n",
       "      <th>phone number</th>\n",
       "      <th>international plan</th>\n",
       "      <th>voice mail plan</th>\n",
       "      <th>number vmail messages</th>\n",
       "      <th>total day minutes</th>\n",
       "      <th>total day calls</th>\n",
       "      <th>...</th>\n",
       "      <th>total eve calls</th>\n",
       "      <th>total eve charge</th>\n",
       "      <th>total night minutes</th>\n",
       "      <th>total night calls</th>\n",
       "      <th>total night charge</th>\n",
       "      <th>total intl minutes</th>\n",
       "      <th>total intl calls</th>\n",
       "      <th>total intl charge</th>\n",
       "      <th>customer service calls</th>\n",
       "      <th>churn</th>\n",
       "    </tr>\n",
       "  </thead>\n",
       "  <tbody>\n",
       "    <tr>\n",
       "      <th>0</th>\n",
       "      <td>2360</td>\n",
       "      <td>IN</td>\n",
       "      <td>68</td>\n",
       "      <td>415</td>\n",
       "      <td>386-9724</td>\n",
       "      <td>no</td>\n",
       "      <td>no</td>\n",
       "      <td>0</td>\n",
       "      <td>222.1</td>\n",
       "      <td>107</td>\n",
       "      <td>...</td>\n",
       "      <td>102</td>\n",
       "      <td>16.95</td>\n",
       "      <td>162.4</td>\n",
       "      <td>107</td>\n",
       "      <td>7.31</td>\n",
       "      <td>9.4</td>\n",
       "      <td>3</td>\n",
       "      <td>2.54</td>\n",
       "      <td>2</td>\n",
       "      <td>False</td>\n",
       "    </tr>\n",
       "    <tr>\n",
       "      <th>1</th>\n",
       "      <td>600</td>\n",
       "      <td>MI</td>\n",
       "      <td>102</td>\n",
       "      <td>510</td>\n",
       "      <td>336-4656</td>\n",
       "      <td>no</td>\n",
       "      <td>no</td>\n",
       "      <td>0</td>\n",
       "      <td>102.6</td>\n",
       "      <td>89</td>\n",
       "      <td>...</td>\n",
       "      <td>77</td>\n",
       "      <td>20.91</td>\n",
       "      <td>170.5</td>\n",
       "      <td>140</td>\n",
       "      <td>7.67</td>\n",
       "      <td>9.1</td>\n",
       "      <td>4</td>\n",
       "      <td>2.46</td>\n",
       "      <td>2</td>\n",
       "      <td>False</td>\n",
       "    </tr>\n",
       "    <tr>\n",
       "      <th>2</th>\n",
       "      <td>1501</td>\n",
       "      <td>AZ</td>\n",
       "      <td>72</td>\n",
       "      <td>510</td>\n",
       "      <td>407-9830</td>\n",
       "      <td>no</td>\n",
       "      <td>no</td>\n",
       "      <td>0</td>\n",
       "      <td>272.4</td>\n",
       "      <td>88</td>\n",
       "      <td>...</td>\n",
       "      <td>125</td>\n",
       "      <td>9.17</td>\n",
       "      <td>185.5</td>\n",
       "      <td>81</td>\n",
       "      <td>8.35</td>\n",
       "      <td>12.7</td>\n",
       "      <td>2</td>\n",
       "      <td>3.43</td>\n",
       "      <td>0</td>\n",
       "      <td>False</td>\n",
       "    </tr>\n",
       "    <tr>\n",
       "      <th>3</th>\n",
       "      <td>1114</td>\n",
       "      <td>TN</td>\n",
       "      <td>108</td>\n",
       "      <td>408</td>\n",
       "      <td>352-1127</td>\n",
       "      <td>no</td>\n",
       "      <td>yes</td>\n",
       "      <td>15</td>\n",
       "      <td>165.1</td>\n",
       "      <td>85</td>\n",
       "      <td>...</td>\n",
       "      <td>93</td>\n",
       "      <td>22.70</td>\n",
       "      <td>250.7</td>\n",
       "      <td>114</td>\n",
       "      <td>11.28</td>\n",
       "      <td>10.9</td>\n",
       "      <td>4</td>\n",
       "      <td>2.94</td>\n",
       "      <td>1</td>\n",
       "      <td>False</td>\n",
       "    </tr>\n",
       "    <tr>\n",
       "      <th>4</th>\n",
       "      <td>517</td>\n",
       "      <td>OK</td>\n",
       "      <td>52</td>\n",
       "      <td>408</td>\n",
       "      <td>389-4780</td>\n",
       "      <td>no</td>\n",
       "      <td>no</td>\n",
       "      <td>0</td>\n",
       "      <td>214.7</td>\n",
       "      <td>68</td>\n",
       "      <td>...</td>\n",
       "      <td>138</td>\n",
       "      <td>13.48</td>\n",
       "      <td>123.4</td>\n",
       "      <td>114</td>\n",
       "      <td>5.55</td>\n",
       "      <td>9.4</td>\n",
       "      <td>4</td>\n",
       "      <td>2.54</td>\n",
       "      <td>2</td>\n",
       "      <td>False</td>\n",
       "    </tr>\n",
       "  </tbody>\n",
       "</table>\n",
       "<p>5 rows × 22 columns</p>\n",
       "</div>"
      ],
      "text/plain": [
       "   Unnamed: 0 state  account length  area code phone number  \\\n",
       "0        2360    IN              68        415     386-9724   \n",
       "1         600    MI             102        510     336-4656   \n",
       "2        1501    AZ              72        510     407-9830   \n",
       "3        1114    TN             108        408     352-1127   \n",
       "4         517    OK              52        408     389-4780   \n",
       "\n",
       "  international plan voice mail plan  number vmail messages  \\\n",
       "0                 no              no                      0   \n",
       "1                 no              no                      0   \n",
       "2                 no              no                      0   \n",
       "3                 no             yes                     15   \n",
       "4                 no              no                      0   \n",
       "\n",
       "   total day minutes  total day calls  ...  total eve calls  total eve charge  \\\n",
       "0              222.1              107  ...              102             16.95   \n",
       "1              102.6               89  ...               77             20.91   \n",
       "2              272.4               88  ...              125              9.17   \n",
       "3              165.1               85  ...               93             22.70   \n",
       "4              214.7               68  ...              138             13.48   \n",
       "\n",
       "   total night minutes  total night calls  total night charge  \\\n",
       "0                162.4                107                7.31   \n",
       "1                170.5                140                7.67   \n",
       "2                185.5                 81                8.35   \n",
       "3                250.7                114               11.28   \n",
       "4                123.4                114                5.55   \n",
       "\n",
       "   total intl minutes  total intl calls  total intl charge  \\\n",
       "0                 9.4                 3               2.54   \n",
       "1                 9.1                 4               2.46   \n",
       "2                12.7                 2               3.43   \n",
       "3                10.9                 4               2.94   \n",
       "4                 9.4                 4               2.54   \n",
       "\n",
       "   customer service calls  churn  \n",
       "0                       2  False  \n",
       "1                       2  False  \n",
       "2                       0  False  \n",
       "3                       1  False  \n",
       "4                       2  False  \n",
       "\n",
       "[5 rows x 22 columns]"
      ]
     },
     "execution_count": 63,
     "metadata": {},
     "output_type": "execute_result"
    }
   ],
   "source": [
    "t_df = pd.read_csv('/Users/mahmoud/Documents/Project_3/test.csv')\n",
    "\n",
    "t_df.head()"
   ]
  },
  {
   "cell_type": "code",
   "execution_count": 103,
   "metadata": {},
   "outputs": [
    {
     "data": {
      "text/plain": [
       "(334, 22)"
      ]
     },
     "execution_count": 103,
     "metadata": {},
     "output_type": "execute_result"
    }
   ],
   "source": [
    "test_df = pd.read_csv('/Users/mahmoud/Documents/Project_3/test.csv')\n",
    "\n",
    "test_df.shape"
   ]
  },
  {
   "cell_type": "code",
   "execution_count": 104,
   "metadata": {},
   "outputs": [
    {
     "data": {
      "text/plain": [
       "(2999, 22)"
      ]
     },
     "execution_count": 104,
     "metadata": {},
     "output_type": "execute_result"
    }
   ],
   "source": [
    "train_df = pd.read_csv('/Users/mahmoud/Documents/Project_3/train.csv')\n",
    "\n",
    "train_df.shape"
   ]
  },
  {
   "cell_type": "code",
   "execution_count": 105,
   "metadata": {},
   "outputs": [],
   "source": [
    "test_df = test_df.drop(columns=['Unnamed: 0'])\n",
    "train_df = train_df.drop(columns=['Unnamed: 0'])"
   ]
  },
  {
   "cell_type": "code",
   "execution_count": null,
   "metadata": {},
   "outputs": [],
   "source": []
  },
  {
   "cell_type": "code",
   "execution_count": 106,
   "metadata": {},
   "outputs": [],
   "source": [
    "X = train_df.drop(['churn'], axis = 1)\n",
    "y = train_df['churn']\n"
   ]
  },
  {
   "cell_type": "code",
   "execution_count": 107,
   "metadata": {},
   "outputs": [],
   "source": [
    "X_train, X_test, y_train, y_test = train_test_split(X, y, stratify = y, test_size = 0.25, random_state = 42)"
   ]
  },
  {
   "cell_type": "code",
   "execution_count": 108,
   "metadata": {},
   "outputs": [
    {
     "data": {
      "text/html": [
       "<div>\n",
       "<style scoped>\n",
       "    .dataframe tbody tr th:only-of-type {\n",
       "        vertical-align: middle;\n",
       "    }\n",
       "\n",
       "    .dataframe tbody tr th {\n",
       "        vertical-align: top;\n",
       "    }\n",
       "\n",
       "    .dataframe thead th {\n",
       "        text-align: right;\n",
       "    }\n",
       "</style>\n",
       "<table border=\"1\" class=\"dataframe\">\n",
       "  <thead>\n",
       "    <tr style=\"text-align: right;\">\n",
       "      <th></th>\n",
       "      <th>account length</th>\n",
       "      <th>number vmail messages</th>\n",
       "      <th>total day minutes</th>\n",
       "      <th>total day calls</th>\n",
       "      <th>total day charge</th>\n",
       "      <th>total eve minutes</th>\n",
       "      <th>total eve calls</th>\n",
       "      <th>total eve charge</th>\n",
       "      <th>total night minutes</th>\n",
       "      <th>total night calls</th>\n",
       "      <th>total night charge</th>\n",
       "      <th>total intl minutes</th>\n",
       "      <th>total intl calls</th>\n",
       "      <th>total intl charge</th>\n",
       "      <th>customer service calls</th>\n",
       "    </tr>\n",
       "  </thead>\n",
       "  <tbody>\n",
       "    <tr>\n",
       "      <th>93</th>\n",
       "      <td>142</td>\n",
       "      <td>0</td>\n",
       "      <td>140.8</td>\n",
       "      <td>140</td>\n",
       "      <td>23.94</td>\n",
       "      <td>228.6</td>\n",
       "      <td>119</td>\n",
       "      <td>19.43</td>\n",
       "      <td>152.9</td>\n",
       "      <td>88</td>\n",
       "      <td>6.88</td>\n",
       "      <td>10.9</td>\n",
       "      <td>7</td>\n",
       "      <td>2.94</td>\n",
       "      <td>1</td>\n",
       "    </tr>\n",
       "    <tr>\n",
       "      <th>419</th>\n",
       "      <td>135</td>\n",
       "      <td>0</td>\n",
       "      <td>201.8</td>\n",
       "      <td>81</td>\n",
       "      <td>34.31</td>\n",
       "      <td>225.0</td>\n",
       "      <td>114</td>\n",
       "      <td>19.13</td>\n",
       "      <td>204.4</td>\n",
       "      <td>82</td>\n",
       "      <td>9.20</td>\n",
       "      <td>10.3</td>\n",
       "      <td>6</td>\n",
       "      <td>2.78</td>\n",
       "      <td>1</td>\n",
       "    </tr>\n",
       "    <tr>\n",
       "      <th>2907</th>\n",
       "      <td>134</td>\n",
       "      <td>32</td>\n",
       "      <td>216.8</td>\n",
       "      <td>78</td>\n",
       "      <td>36.86</td>\n",
       "      <td>102.2</td>\n",
       "      <td>111</td>\n",
       "      <td>8.69</td>\n",
       "      <td>174.0</td>\n",
       "      <td>83</td>\n",
       "      <td>7.83</td>\n",
       "      <td>8.6</td>\n",
       "      <td>2</td>\n",
       "      <td>2.32</td>\n",
       "      <td>0</td>\n",
       "    </tr>\n",
       "    <tr>\n",
       "      <th>2525</th>\n",
       "      <td>103</td>\n",
       "      <td>36</td>\n",
       "      <td>87.2</td>\n",
       "      <td>92</td>\n",
       "      <td>14.82</td>\n",
       "      <td>169.3</td>\n",
       "      <td>110</td>\n",
       "      <td>14.39</td>\n",
       "      <td>166.7</td>\n",
       "      <td>80</td>\n",
       "      <td>7.50</td>\n",
       "      <td>10.9</td>\n",
       "      <td>5</td>\n",
       "      <td>2.94</td>\n",
       "      <td>6</td>\n",
       "    </tr>\n",
       "    <tr>\n",
       "      <th>2592</th>\n",
       "      <td>92</td>\n",
       "      <td>29</td>\n",
       "      <td>201.3</td>\n",
       "      <td>130</td>\n",
       "      <td>34.22</td>\n",
       "      <td>203.7</td>\n",
       "      <td>115</td>\n",
       "      <td>17.31</td>\n",
       "      <td>129.9</td>\n",
       "      <td>113</td>\n",
       "      <td>5.85</td>\n",
       "      <td>6.4</td>\n",
       "      <td>6</td>\n",
       "      <td>1.73</td>\n",
       "      <td>1</td>\n",
       "    </tr>\n",
       "    <tr>\n",
       "      <th>...</th>\n",
       "      <td>...</td>\n",
       "      <td>...</td>\n",
       "      <td>...</td>\n",
       "      <td>...</td>\n",
       "      <td>...</td>\n",
       "      <td>...</td>\n",
       "      <td>...</td>\n",
       "      <td>...</td>\n",
       "      <td>...</td>\n",
       "      <td>...</td>\n",
       "      <td>...</td>\n",
       "      <td>...</td>\n",
       "      <td>...</td>\n",
       "      <td>...</td>\n",
       "      <td>...</td>\n",
       "    </tr>\n",
       "    <tr>\n",
       "      <th>394</th>\n",
       "      <td>65</td>\n",
       "      <td>29</td>\n",
       "      <td>158.1</td>\n",
       "      <td>104</td>\n",
       "      <td>26.88</td>\n",
       "      <td>322.2</td>\n",
       "      <td>81</td>\n",
       "      <td>27.39</td>\n",
       "      <td>210.0</td>\n",
       "      <td>96</td>\n",
       "      <td>9.45</td>\n",
       "      <td>8.9</td>\n",
       "      <td>6</td>\n",
       "      <td>2.40</td>\n",
       "      <td>1</td>\n",
       "    </tr>\n",
       "    <tr>\n",
       "      <th>683</th>\n",
       "      <td>55</td>\n",
       "      <td>25</td>\n",
       "      <td>165.6</td>\n",
       "      <td>123</td>\n",
       "      <td>28.15</td>\n",
       "      <td>136.1</td>\n",
       "      <td>95</td>\n",
       "      <td>11.57</td>\n",
       "      <td>175.7</td>\n",
       "      <td>90</td>\n",
       "      <td>7.91</td>\n",
       "      <td>11.0</td>\n",
       "      <td>2</td>\n",
       "      <td>2.97</td>\n",
       "      <td>3</td>\n",
       "    </tr>\n",
       "    <tr>\n",
       "      <th>2688</th>\n",
       "      <td>103</td>\n",
       "      <td>0</td>\n",
       "      <td>246.5</td>\n",
       "      <td>47</td>\n",
       "      <td>41.91</td>\n",
       "      <td>195.5</td>\n",
       "      <td>84</td>\n",
       "      <td>16.62</td>\n",
       "      <td>200.5</td>\n",
       "      <td>96</td>\n",
       "      <td>9.02</td>\n",
       "      <td>11.7</td>\n",
       "      <td>4</td>\n",
       "      <td>3.16</td>\n",
       "      <td>1</td>\n",
       "    </tr>\n",
       "    <tr>\n",
       "      <th>2687</th>\n",
       "      <td>80</td>\n",
       "      <td>0</td>\n",
       "      <td>189.1</td>\n",
       "      <td>122</td>\n",
       "      <td>32.15</td>\n",
       "      <td>223.2</td>\n",
       "      <td>92</td>\n",
       "      <td>18.97</td>\n",
       "      <td>269.0</td>\n",
       "      <td>116</td>\n",
       "      <td>12.11</td>\n",
       "      <td>13.9</td>\n",
       "      <td>3</td>\n",
       "      <td>3.75</td>\n",
       "      <td>2</td>\n",
       "    </tr>\n",
       "    <tr>\n",
       "      <th>531</th>\n",
       "      <td>38</td>\n",
       "      <td>36</td>\n",
       "      <td>115.4</td>\n",
       "      <td>98</td>\n",
       "      <td>19.62</td>\n",
       "      <td>166.2</td>\n",
       "      <td>83</td>\n",
       "      <td>14.13</td>\n",
       "      <td>184.7</td>\n",
       "      <td>79</td>\n",
       "      <td>8.31</td>\n",
       "      <td>15.2</td>\n",
       "      <td>6</td>\n",
       "      <td>4.10</td>\n",
       "      <td>2</td>\n",
       "    </tr>\n",
       "  </tbody>\n",
       "</table>\n",
       "<p>2249 rows × 15 columns</p>\n",
       "</div>"
      ],
      "text/plain": [
       "      account length  number vmail messages  total day minutes  \\\n",
       "93               142                      0              140.8   \n",
       "419              135                      0              201.8   \n",
       "2907             134                     32              216.8   \n",
       "2525             103                     36               87.2   \n",
       "2592              92                     29              201.3   \n",
       "...              ...                    ...                ...   \n",
       "394               65                     29              158.1   \n",
       "683               55                     25              165.6   \n",
       "2688             103                      0              246.5   \n",
       "2687              80                      0              189.1   \n",
       "531               38                     36              115.4   \n",
       "\n",
       "      total day calls  total day charge  total eve minutes  total eve calls  \\\n",
       "93                140             23.94              228.6              119   \n",
       "419                81             34.31              225.0              114   \n",
       "2907               78             36.86              102.2              111   \n",
       "2525               92             14.82              169.3              110   \n",
       "2592              130             34.22              203.7              115   \n",
       "...               ...               ...                ...              ...   \n",
       "394               104             26.88              322.2               81   \n",
       "683               123             28.15              136.1               95   \n",
       "2688               47             41.91              195.5               84   \n",
       "2687              122             32.15              223.2               92   \n",
       "531                98             19.62              166.2               83   \n",
       "\n",
       "      total eve charge  total night minutes  total night calls  \\\n",
       "93               19.43                152.9                 88   \n",
       "419              19.13                204.4                 82   \n",
       "2907              8.69                174.0                 83   \n",
       "2525             14.39                166.7                 80   \n",
       "2592             17.31                129.9                113   \n",
       "...                ...                  ...                ...   \n",
       "394              27.39                210.0                 96   \n",
       "683              11.57                175.7                 90   \n",
       "2688             16.62                200.5                 96   \n",
       "2687             18.97                269.0                116   \n",
       "531              14.13                184.7                 79   \n",
       "\n",
       "      total night charge  total intl minutes  total intl calls  \\\n",
       "93                  6.88                10.9                 7   \n",
       "419                 9.20                10.3                 6   \n",
       "2907                7.83                 8.6                 2   \n",
       "2525                7.50                10.9                 5   \n",
       "2592                5.85                 6.4                 6   \n",
       "...                  ...                 ...               ...   \n",
       "394                 9.45                 8.9                 6   \n",
       "683                 7.91                11.0                 2   \n",
       "2688                9.02                11.7                 4   \n",
       "2687               12.11                13.9                 3   \n",
       "531                 8.31                15.2                 6   \n",
       "\n",
       "      total intl charge  customer service calls  \n",
       "93                 2.94                       1  \n",
       "419                2.78                       1  \n",
       "2907               2.32                       0  \n",
       "2525               2.94                       6  \n",
       "2592               1.73                       1  \n",
       "...                 ...                     ...  \n",
       "394                2.40                       1  \n",
       "683                2.97                       3  \n",
       "2688               3.16                       1  \n",
       "2687               3.75                       2  \n",
       "531                4.10                       2  \n",
       "\n",
       "[2249 rows x 15 columns]"
      ]
     },
     "execution_count": 108,
     "metadata": {},
     "output_type": "execute_result"
    }
   ],
   "source": [
    "# numeric columns + drop phone #\n",
    "X_tr_num = X_train.drop(['state', 'area code', 'phone number', 'international plan', 'voice mail plan'], axis=1)\n",
    "X_tr_num"
   ]
  },
  {
   "cell_type": "code",
   "execution_count": 109,
   "metadata": {},
   "outputs": [],
   "source": [
    "# doing the same for X test\n",
    "X_te_num = X_test.drop(['state', 'area code', 'phone number', 'international plan', 'voice mail plan'], axis=1)"
   ]
  },
  {
   "cell_type": "code",
   "execution_count": 110,
   "metadata": {},
   "outputs": [
    {
     "data": {
      "text/plain": [
       "False    1927\n",
       "True      322\n",
       "Name: churn, dtype: int64"
      ]
     },
     "execution_count": 110,
     "metadata": {},
     "output_type": "execute_result"
    }
   ],
   "source": [
    "y_train.value_counts()"
   ]
  },
  {
   "cell_type": "code",
   "execution_count": 111,
   "metadata": {},
   "outputs": [
    {
     "data": {
      "text/html": [
       "<style>div.sk-top-container {color: black;background-color: white;}div.sk-toggleable {background-color: white;}label.sk-toggleable__label {cursor: pointer;display: block;width: 100%;margin-bottom: 0;padding: 0.2em 0.3em;box-sizing: border-box;text-align: center;}div.sk-toggleable__content {max-height: 0;max-width: 0;overflow: hidden;text-align: left;background-color: #f0f8ff;}div.sk-toggleable__content pre {margin: 0.2em;color: black;border-radius: 0.25em;background-color: #f0f8ff;}input.sk-toggleable__control:checked~div.sk-toggleable__content {max-height: 200px;max-width: 100%;overflow: auto;}div.sk-estimator input.sk-toggleable__control:checked~label.sk-toggleable__label {background-color: #d4ebff;}div.sk-label input.sk-toggleable__control:checked~label.sk-toggleable__label {background-color: #d4ebff;}input.sk-hidden--visually {border: 0;clip: rect(1px 1px 1px 1px);clip: rect(1px, 1px, 1px, 1px);height: 1px;margin: -1px;overflow: hidden;padding: 0;position: absolute;width: 1px;}div.sk-estimator {font-family: monospace;background-color: #f0f8ff;margin: 0.25em 0.25em;border: 1px dotted black;border-radius: 0.25em;box-sizing: border-box;}div.sk-estimator:hover {background-color: #d4ebff;}div.sk-parallel-item::after {content: \"\";width: 100%;border-bottom: 1px solid gray;flex-grow: 1;}div.sk-label:hover label.sk-toggleable__label {background-color: #d4ebff;}div.sk-serial::before {content: \"\";position: absolute;border-left: 1px solid gray;box-sizing: border-box;top: 2em;bottom: 0;left: 50%;}div.sk-serial {display: flex;flex-direction: column;align-items: center;background-color: white;}div.sk-item {z-index: 1;}div.sk-parallel {display: flex;align-items: stretch;justify-content: center;background-color: white;}div.sk-parallel-item {display: flex;flex-direction: column;position: relative;background-color: white;}div.sk-parallel-item:first-child::after {align-self: flex-end;width: 50%;}div.sk-parallel-item:last-child::after {align-self: flex-start;width: 50%;}div.sk-parallel-item:only-child::after {width: 0;}div.sk-dashed-wrapped {border: 1px dashed gray;margin: 0.2em;box-sizing: border-box;padding-bottom: 0.1em;background-color: white;position: relative;}div.sk-label label {font-family: monospace;font-weight: bold;background-color: white;display: inline-block;line-height: 1.2em;}div.sk-label-container {position: relative;z-index: 2;text-align: center;}div.sk-container {display: inline-block;position: relative;}</style><div class=\"sk-top-container\"><div class=\"sk-container\"><div class=\"sk-item sk-dashed-wrapped\"><div class=\"sk-label-container\"><div class=\"sk-label sk-toggleable\"><input class=\"sk-toggleable__control sk-hidden--visually\" id=\"002d1fdb-5437-4c12-8e2f-6e0806176148\" type=\"checkbox\" ><label class=\"sk-toggleable__label\" for=\"002d1fdb-5437-4c12-8e2f-6e0806176148\">Pipeline</label><div class=\"sk-toggleable__content\"><pre>Pipeline(steps=[('std_scaler', StandardScaler()), ('SMOTE', SMOTE()),\n",
       "                ('rf_clf', RandomForestClassifier(random_state=42))])</pre></div></div></div><div class=\"sk-serial\"><div class=\"sk-item\"><div class=\"sk-estimator sk-toggleable\"><input class=\"sk-toggleable__control sk-hidden--visually\" id=\"a3a1e930-45c0-43ae-903f-8efa865420ef\" type=\"checkbox\" ><label class=\"sk-toggleable__label\" for=\"a3a1e930-45c0-43ae-903f-8efa865420ef\">StandardScaler</label><div class=\"sk-toggleable__content\"><pre>StandardScaler()</pre></div></div></div><div class=\"sk-item\"><div class=\"sk-estimator sk-toggleable\"><input class=\"sk-toggleable__control sk-hidden--visually\" id=\"96471066-962e-41fa-8edf-77ed806ab474\" type=\"checkbox\" ><label class=\"sk-toggleable__label\" for=\"96471066-962e-41fa-8edf-77ed806ab474\">SMOTE</label><div class=\"sk-toggleable__content\"><pre>SMOTE()</pre></div></div></div><div class=\"sk-item\"><div class=\"sk-estimator sk-toggleable\"><input class=\"sk-toggleable__control sk-hidden--visually\" id=\"1b8bd893-52c9-4429-846f-1f6738ac6922\" type=\"checkbox\" ><label class=\"sk-toggleable__label\" for=\"1b8bd893-52c9-4429-846f-1f6738ac6922\">RandomForestClassifier</label><div class=\"sk-toggleable__content\"><pre>RandomForestClassifier(random_state=42)</pre></div></div></div></div></div></div></div>"
      ],
      "text/plain": [
       "Pipeline(steps=[('std_scaler', StandardScaler()), ('SMOTE', SMOTE()),\n",
       "                ('rf_clf', RandomForestClassifier(random_state=42))])"
      ]
     },
     "execution_count": 111,
     "metadata": {},
     "output_type": "execute_result"
    }
   ],
   "source": [
    "from imblearn.pipeline import Pipeline\n",
    "from imblearn.over_sampling import SMOTE\n",
    "from sklearn.ensemble import RandomForestClassifier\n",
    "\n",
    "steps = [('std_scaler', StandardScaler()), (\"SMOTE\", SMOTE()),\n",
    "        ('rf_clf', RandomForestClassifier(random_state=42))]\n",
    "# smote has no affect\n",
    "pipeline = Pipeline(steps)\n",
    "\n",
    "\n",
    "pipeline"
   ]
  },
  {
   "cell_type": "code",
   "execution_count": null,
   "metadata": {},
   "outputs": [],
   "source": []
  },
  {
   "cell_type": "code",
   "execution_count": 112,
   "metadata": {
    "scrolled": true
   },
   "outputs": [],
   "source": [
    "# Train the pipeline (tranformations & predictor)\n",
    "pipeline.fit(X_tr_num, y_train)\n",
    "\n",
    "# Predict using the pipeline (includes the transfomers & trained predictor)\n",
    "predicted = pipeline.predict(X_te_num)"
   ]
  },
  {
   "cell_type": "code",
   "execution_count": 113,
   "metadata": {},
   "outputs": [
    {
     "data": {
      "text/plain": [
       "<sklearn.metrics._plot.confusion_matrix.ConfusionMatrixDisplay at 0x7f8a485d2070>"
      ]
     },
     "execution_count": 113,
     "metadata": {},
     "output_type": "execute_result"
    },
    {
     "data": {
      "image/png": "[encoded data removed]",
      "text/plain": [
       "<Figure size 432x288 with 2 Axes>"
      ]
     },
     "metadata": {
      "needs_background": "light"
     },
     "output_type": "display_data"
    }
   ],
   "source": [
    "plot_confusion_matrix(pipeline,X_te_num,y_test)"
   ]
  },
  {
   "cell_type": "code",
   "execution_count": 114,
   "metadata": {},
   "outputs": [
    {
     "data": {
      "text/plain": [
       "<sklearn.metrics._plot.roc_curve.RocCurveDisplay at 0x7f8a7b646070>"
      ]
     },
     "execution_count": 114,
     "metadata": {},
     "output_type": "execute_result"
    },
    {
     "data": {
      "image/png": "[encoded data removed]",
      "text/plain": [
       "<Figure size 432x288 with 1 Axes>"
      ]
     },
     "metadata": {
      "needs_background": "light"
     },
     "output_type": "display_data"
    }
   ],
   "source": [
    "from sklearn.metrics import roc_curve\n",
    "from sklearn.metrics import roc_auc_score\n",
    "from sklearn.metrics import plot_roc_curve\n",
    "plot_roc_curve(pipeline,X_tr_num,y_train)"
   ]
  },
  {
   "cell_type": "code",
   "execution_count": 115,
   "metadata": {},
   "outputs": [
    {
     "name": "stdout",
     "output_type": "stream",
     "text": [
      "1.0\n"
     ]
    }
   ],
   "source": [
    "print(pipeline.score(X_tr_num, y_train))"
   ]
  },
  {
   "cell_type": "code",
   "execution_count": 116,
   "metadata": {
    "scrolled": true
   },
   "outputs": [
    {
     "name": "stdout",
     "output_type": "stream",
     "text": [
      "0.916\n"
     ]
    }
   ],
   "source": [
    "print(pipeline.score(X_te_num, y_test))"
   ]
  },
  {
   "cell_type": "code",
   "execution_count": 117,
   "metadata": {},
   "outputs": [
    {
     "data": {
      "text/plain": [
       "array([0.0375519 , 0.05090532, 0.11912668, 0.03608972, 0.13357348,\n",
       "       0.05906374, 0.04052506, 0.05696337, 0.04060998, 0.03877154,\n",
       "       0.04010542, 0.04220216, 0.08547556, 0.04484541, 0.17419067])"
      ]
     },
     "execution_count": 117,
     "metadata": {},
     "output_type": "execute_result"
    }
   ],
   "source": [
    "pipeline.named_steps['rf_clf'].feature_importances_"
   ]
  },
  {
   "cell_type": "code",
   "execution_count": null,
   "metadata": {},
   "outputs": [],
   "source": []
  },
  {
   "cell_type": "markdown",
   "metadata": {},
   "source": [
    "# slight overfit"
   ]
  },
  {
   "cell_type": "code",
   "execution_count": null,
   "metadata": {},
   "outputs": [],
   "source": []
  }
 ],
 "metadata": {
  "kernelspec": {
   "display_name": "Python (learn-env)",
   "language": "python",
   "name": "learn-env"
  },
  "language_info": {
   "codemirror_mode": {
    "name": "ipython",
    "version": 3
   },
   "file_extension": ".py",
   "mimetype": "text/x-python",
   "name": "python",
   "nbconvert_exporter": "python",
   "pygments_lexer": "ipython3",
   "version": "3.8.5"
  }
 },
 "nbformat": 4,
 "nbformat_minor": 4
}
